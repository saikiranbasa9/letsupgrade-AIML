{
 "cells": [
  {
   "cell_type": "markdown",
   "metadata": {},
   "source": [
    "we can perform only basic arithmetic operators\n",
    "i.e addition, subtraction, multiplication, division"
   ]
  },
  {
   "cell_type": "code",
   "execution_count": 2,
   "metadata": {},
   "outputs": [
    {
     "name": "stdout",
     "output_type": "stream",
     "text": [
      "(5+8j)\n",
      "(1+2j)\n",
      "(-9+19j)\n",
      "(1.6153846153846154+0.07692307692307686j)\n"
     ]
    }
   ],
   "source": [
    "a=3+5j\n",
    "b=2+3j\n",
    "c= a+b\n",
    "d= a-b\n",
    "e= a*b\n",
    "f= a/b\n",
    "print(c)\n",
    "print(d)\n",
    "print(e)\n",
    "print(f)"
   ]
  },
  {
   "cell_type": "markdown",
   "metadata": {},
   "source": [
    "By the name itself tells us that it is about range of a function \n",
    "it would have start point and end point \n",
    "and it also have steps \n",
    "syntax is range(start, end, steps)"
   ]
  },
  {
   "cell_type": "code",
   "execution_count": 9,
   "metadata": {},
   "outputs": [
    {
     "name": "stdout",
     "output_type": "stream",
     "text": [
      "2 4 6 8 10 12 14 16 18 20 22 24 26 28 30 32 "
     ]
    }
   ],
   "source": [
    "a= range(2, 33, 2)\n",
    "for i in a:\n",
    "    print(i,end=\" \")\n"
   ]
  },
  {
   "cell_type": "code",
   "execution_count": 14,
   "metadata": {},
   "outputs": [
    {
     "name": "stdout",
     "output_type": "stream",
     "text": [
      "5500\n"
     ]
    }
   ],
   "source": [
    "a=100\n",
    "b=55\n",
    "c=a-b\n",
    "if c>25:\n",
    "    d=a*b\n",
    "    print(d)\n",
    "else:\n",
    "    e=a/b\n",
    "    print(e)"
   ]
  },
  {
   "cell_type": "code",
   "execution_count": 16,
   "metadata": {},
   "outputs": [
    {
     "name": "stdout",
     "output_type": "stream",
     "text": [
      "2 square of that number minus 2\n",
      "4 square of that number minus 2\n",
      "6 square of that number minus 2\n",
      "8 square of that number minus 2\n"
     ]
    }
   ],
   "source": [
    "a=(1,2,3,4,5,6,7,8,9)\n",
    "for i in a:\n",
    "    if i%2==0:\n",
    "        print(i,\"square of that number minus 2\")"
   ]
  },
  {
   "cell_type": "code",
   "execution_count": 21,
   "metadata": {},
   "outputs": [
    {
     "name": "stdout",
     "output_type": "stream",
     "text": [
      "55\n",
      "87\n",
      "28\n",
      "96\n",
      "15\n",
      "56\n"
     ]
    }
   ],
   "source": [
    "a=(55,87,13,28,96,7,15,4,56,2)\n",
    "for i in a:\n",
    "    if i/2>7:\n",
    "        print(i)"
   ]
  }
 ],
 "metadata": {
  "kernelspec": {
   "display_name": "Python 3",
   "language": "python",
   "name": "python3"
  },
  "language_info": {
   "codemirror_mode": {
    "name": "ipython",
    "version": 3
   },
   "file_extension": ".py",
   "mimetype": "text/x-python",
   "name": "python",
   "nbconvert_exporter": "python",
   "pygments_lexer": "ipython3",
   "version": "3.7.6"
  }
 },
 "nbformat": 4,
 "nbformat_minor": 4
}
