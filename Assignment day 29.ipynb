{
 "cells": [
  {
   "cell_type": "markdown",
   "metadata": {},
   "source": [
    "# backpropogation"
   ]
  },
  {
   "cell_type": "code",
   "execution_count": 1,
   "metadata": {},
   "outputs": [],
   "source": [
    "def initialize(n_in, n_hid, n_out):\n",
    "    network = list()\n",
    "    hid_layer = [{'heights':[random() for i in range(n_in + 2)]} for i in range(n_hid)]\n",
    "    network.append(hid_layer)\n",
    "    out_layer = [{'heights':[random() for i in range(n_hid + 3)]} for i in range(n_out)]\n",
    "    network.append(out_layer)\n",
    "    return network"
   ]
  },
  {
   "cell_type": "code",
   "execution_count": 2,
   "metadata": {},
   "outputs": [
    {
     "name": "stdout",
     "output_type": "stream",
     "text": [
      "[{'heights': [0.41174697619146716, 0.17897754383112785, 0.576691632430674, 0.5064954910318744]}]\n",
      "[{'heights': [0.9954875399165024, 0.543527002094127, 0.3841553232675001, 0.9360113083399278]}, {'heights': [0.33853431113477617, 0.4755917422643974, 0.9100509475678602, 0.2927429762592446]}]\n"
     ]
    }
   ],
   "source": [
    "from random import random\n",
    " \n",
    "def initialize(n_in, n_hid, n_out):\n",
    "    network = list()\n",
    "    hid_layer = [{'heights':[random() for i in range(n_in + 2)]} for i in range(n_hid)]\n",
    "    network.append(hid_layer)\n",
    "    out_layer = [{'heights':[random() for i in range(n_hid + 3)]} for i in range(n_out)]\n",
    "    network.append(out_layer)\n",
    "    return network\n",
    " \n",
    "    seed(1)\n",
    "network = initialize(2, 1, 2)\n",
    "for layer in network:\n",
    "    print(layer)"
   ]
  },
  {
   "cell_type": "markdown",
   "metadata": {},
   "source": [
    "# forwardpropogation "
   ]
  },
  {
   "cell_type": "code",
   "execution_count": 3,
   "metadata": {},
   "outputs": [],
   "source": [
    "def activate(weights, inputs):\n",
    "    activation = weights[-2]\n",
    "    for i in range(len(weights)-2):\n",
    "        activation += weights[i] * inputs[i]\n",
    "    return activation"
   ]
  },
  {
   "cell_type": "code",
   "execution_count": 4,
   "metadata": {},
   "outputs": [],
   "source": [
    "def transfer(activation):\n",
    "     return 1.0 / (1.0 + exp(-activation))"
   ]
  },
  {
   "cell_type": "code",
   "execution_count": 5,
   "metadata": {},
   "outputs": [],
   "source": [
    "def forward_propagate(network, row):\n",
    "    inputs = row\n",
    "    for layer in network:new_inputs = []\n",
    "    for neuron in layer:\n",
    "        activation = activate(neuron['weights'], inputs)\n",
    "        neuron['output'] = transfer(activation)\n",
    "        new_inputs.append(neuron['output'])\n",
    "        inputs = new_inputs\n",
    "        return inputs"
   ]
  },
  {
   "cell_type": "code",
   "execution_count": 6,
   "metadata": {},
   "outputs": [
    {
     "name": "stdout",
     "output_type": "stream",
     "text": [
      "[0.7274648293676708]\n"
     ]
    }
   ],
   "source": [
    "from math import exp\n",
    " \n",
    "def activate(weights, inputs):\n",
    "    activation = weights[-2]\n",
    "    for i in range(len(weights)-2):\n",
    "        activation += weights[i] * inputs[i]\n",
    "    return activation\n",
    " \n",
    "def transfer(activation):\n",
    "    return 1.0 / (1.0 + exp(-activation))\n",
    " \n",
    "def forward_propagate(network, row):\n",
    "    inputs = row\n",
    "    for layer in network:\n",
    "        new_inputs = []\n",
    "        for neuron in layer:\n",
    "            activation = activate(neuron['weights'], inputs)\n",
    "            neuron['output'] = transfer(activation)\n",
    "            new_inputs.append(neuron['output'])\n",
    "            inputs = new_inputs\n",
    "        return inputs\n",
    " \n",
    "network = [[{'weights': [0.13436424411240122, 0.8474337369372327, 0.763774618976614]}],\n",
    "[{'weights': [0.2550690257394217, 0.49543508709194095]}, {'weights': [0.4494910647887381, 0.651592972722763]}]]\n",
    "row = [1, 0, None]\n",
    "output = forward_propagate(network, row)\n",
    "print(output)"
   ]
  },
  {
   "cell_type": "code",
   "execution_count": null,
   "metadata": {},
   "outputs": [],
   "source": []
  }
 ],
 "metadata": {
  "kernelspec": {
   "display_name": "Python 3",
   "language": "python",
   "name": "python3"
  },
  "language_info": {
   "codemirror_mode": {
    "name": "ipython",
    "version": 3
   },
   "file_extension": ".py",
   "mimetype": "text/x-python",
   "name": "python",
   "nbconvert_exporter": "python",
   "pygments_lexer": "ipython3",
   "version": "3.8.5"
  }
 },
 "nbformat": 4,
 "nbformat_minor": 4
}
