{
 "cells": [
  {
   "cell_type": "code",
   "execution_count": 13,
   "metadata": {},
   "outputs": [
    {
     "name": "stdout",
     "output_type": "stream",
     "text": [
      "Enter your email-id as xyz@gmail.com sai@sai.com\n"
     ]
    },
    {
     "data": {
      "text/plain": [
       "'sai'"
      ]
     },
     "execution_count": 13,
     "metadata": {},
     "output_type": "execute_result"
    }
   ],
   "source": [
    "def abc(email):\n",
    "    company_name = email.find('@')\n",
    "    return email[company_name+1:email.rfind('.')]\n",
    "abc(input(\"Enter your email-id as xyz@gmail.com \"))"
   ]
  },
  {
   "cell_type": "code",
   "execution_count": 15,
   "metadata": {},
   "outputs": [
    {
     "name": "stdout",
     "output_type": "stream",
     "text": [
      "Enter a comma-separated sequencewithout,hello,bag,world\n",
      "bag,hello,without,world,"
     ]
    }
   ],
   "source": [
    "def seq(sequ):\n",
    "    a = (sequ.split(\",\"))\n",
    "    a.sort()\n",
    "    for s in a:\n",
    "        print(s,end=\",\")\n",
    "    return \n",
    "seq(input(\"Enter a comma-separated sequence \"))"
   ]
  },
  {
   "cell_type": "markdown",
   "metadata": {},
   "source": [
    "# # sets{}\n"
   ]
  },
  {
   "cell_type": "code",
   "execution_count": 18,
   "metadata": {},
   "outputs": [
    {
     "name": "stdout",
     "output_type": "stream",
     "text": [
      "<class 'set'>\n"
     ]
    }
   ],
   "source": [
    "a = {\"without\",\"hello\",\"bag\",\"world\"}\n",
    "print(type(a))"
   ]
  },
  {
   "cell_type": "code",
   "execution_count": 20,
   "metadata": {},
   "outputs": [
    {
     "name": "stdout",
     "output_type": "stream",
     "text": [
      "{'bag', 'hello', 'world', 'without'}\n"
     ]
    }
   ],
   "source": [
    "a ={\"without\",\"hello\",\"bag\",\"world\",\"without\",\"hello\",\"bag\",\"world\"}\n",
    "print(a)"
   ]
  },
  {
   "cell_type": "code",
   "execution_count": 24,
   "metadata": {},
   "outputs": [
    {
     "name": "stdout",
     "output_type": "stream",
     "text": [
      "{'bag', 'hello', 'world', 'without'}\n",
      "{1, 2, 3, 340}\n",
      "{False, True}\n",
      "{('without', 'hello', 'bag', 'world')}\n"
     ]
    }
   ],
   "source": [
    "a= {\"without\",\"hello\",\"bag\",\"world\"}\n",
    "b ={1,2,3,340}\n",
    "c= {True, False, True}\n",
    "d= {(\"without\",\"hello\",\"bag\",\"world\")}\n",
    "print(a)\n",
    "print(b)\n",
    "print(c)\n",
    "print(d)"
   ]
  },
  {
   "cell_type": "code",
   "execution_count": 26,
   "metadata": {},
   "outputs": [
    {
     "name": "stdout",
     "output_type": "stream",
     "text": [
      "{1, 2, 'hello', 3, 'without', 'bag', 340, 'world'}\n"
     ]
    }
   ],
   "source": [
    "a= {\"without\",\"hello\",\"bag\",\"world\"}\n",
    "b ={1,2,3,340}\n",
    "a.update(b)\n",
    "print(a)"
   ]
  },
  {
   "cell_type": "code",
   "execution_count": 30,
   "metadata": {},
   "outputs": [
    {
     "name": "stdout",
     "output_type": "stream",
     "text": [
      "bag\n",
      "{'world', 'without'}\n",
      "{1, 2, 340}\n"
     ]
    }
   ],
   "source": [
    "a= {\"without\",\"hello\",\"bag\",\"world\"}\n",
    "b ={1,2,3,340}\n",
    "a.remove(\"hello\")\n",
    "b.discard(3)\n",
    "x = a.pop()\n",
    "print(x)\n",
    "print(a)\n",
    "print(b)"
   ]
  },
  {
   "cell_type": "code",
   "execution_count": 35,
   "metadata": {},
   "outputs": [
    {
     "name": "stdout",
     "output_type": "stream",
     "text": [
      "set()\n"
     ]
    },
    {
     "ename": "NameError",
     "evalue": "name 'b' is not defined",
     "output_type": "error",
     "traceback": [
      "\u001b[1;31m---------------------------------------------------------------------------\u001b[0m",
      "\u001b[1;31mNameError\u001b[0m                                 Traceback (most recent call last)",
      "\u001b[1;32m<ipython-input-35-4a26d7b23444>\u001b[0m in \u001b[0;36m<module>\u001b[1;34m\u001b[0m\n\u001b[0;32m      4\u001b[0m \u001b[1;32mdel\u001b[0m \u001b[0mb\u001b[0m\u001b[1;33m\u001b[0m\u001b[1;33m\u001b[0m\u001b[0m\n\u001b[0;32m      5\u001b[0m \u001b[0mprint\u001b[0m\u001b[1;33m(\u001b[0m\u001b[0ma\u001b[0m\u001b[1;33m)\u001b[0m\u001b[1;33m\u001b[0m\u001b[1;33m\u001b[0m\u001b[0m\n\u001b[1;32m----> 6\u001b[1;33m \u001b[0mprint\u001b[0m\u001b[1;33m(\u001b[0m\u001b[0mb\u001b[0m\u001b[1;33m)\u001b[0m\u001b[1;33m\u001b[0m\u001b[1;33m\u001b[0m\u001b[0m\n\u001b[0m",
      "\u001b[1;31mNameError\u001b[0m: name 'b' is not defined"
     ]
    }
   ],
   "source": [
    "ac= {\"without\",\"hello\",\"bag\",\"world\"}\n",
    "b ={1,2,3,340}\n",
    "a.clear()\n",
    "del b\n",
    "print(a)\n",
    "print(b)"
   ]
  },
  {
   "cell_type": "code",
   "execution_count": 39,
   "metadata": {},
   "outputs": [
    {
     "name": "stdout",
     "output_type": "stream",
     "text": [
      "{1, 2, 'hello', 3, 'without', 'bag', 340, 'world'}\n",
      "{1, 2, 'hello', 3, 'without', 'bag', 340, 'world'}\n"
     ]
    }
   ],
   "source": [
    "a= {\"without\",\"hello\",\"bag\",\"world\"}\n",
    "b ={1,2,3,340}\n",
    "c= a.union(b)\n",
    "print(c)\n",
    "a.update(b)\n",
    "print(a)"
   ]
  },
  {
   "cell_type": "code",
   "execution_count": 44,
   "metadata": {},
   "outputs": [
    {
     "name": "stdout",
     "output_type": "stream",
     "text": [
      "{1, 2, 3, 'hello', 'without', 340}\n",
      "{1, 2, 3, 'hello', 'without', 340}\n",
      "set()\n"
     ]
    }
   ],
   "source": [
    "a= {\"without\",\"hello\",\"bag\",\"world\",1,2,3,340}\n",
    "b ={1,2,3,340,\"without\",\"hello\",}\n",
    "a.intersection_update(b)\n",
    "print(a)\n",
    "z= b.intersection(a)\n",
    "print(z)\n",
    "a.symmetric_difference_update(b)\n",
    "print(a)"
   ]
  },
  {
   "cell_type": "code",
   "execution_count": 52,
   "metadata": {},
   "outputs": [
    {
     "name": "stdout",
     "output_type": "stream",
     "text": [
      "{'bag', 'world'}\n",
      "{1, 2, 3, 'hello', 340, 'bag', 'world', 'without'}\n",
      "{1, 2, 3, 'hello', 340, 'bag', 'world', 'without'}\n"
     ]
    }
   ],
   "source": [
    "a= {\"without\",\"hello\",\"bag\",\"world\",1,2,3,340}\n",
    "b ={1,2,3,340,\"without\",\"hello\",}\n",
    "a.symmetric_difference_update(b)\n",
    "print(a)\n",
    "z= a.symmetric_difference(b)\n",
    "print(z)\n",
    "a=z\n",
    "print(a)"
   ]
  },
  {
   "cell_type": "raw",
   "metadata": {},
   "source": [
    "add()\n",
    "clear()\n",
    "copy()\n",
    "difference()\n",
    "difference_update()\n",
    "discard()\n",
    "intersection()\n",
    "intersection_update()\n",
    "isdisjoint()\n",
    "issubset()\n",
    "issuperset()\n",
    "remove()\n",
    "symmetric_difference()\n",
    "symmetric_difference_update()\n",
    "union()\n",
    "update()\n",
    "\n",
    "we can perform all this"
   ]
  },
  {
   "cell_type": "code",
   "execution_count": 85,
   "metadata": {},
   "outputs": [
    {
     "name": "stdout",
     "output_type": "stream",
     "text": [
      "enter seq1,2,4,6,3,7,8\n",
      "[5]\n"
     ]
    }
   ],
   "source": [
    "def mis(l):\n",
    "    l.sort()\n",
    "    return [i for x,y in zip(l,l[1:]) for i in range (x+1,y) if y-x>1]\n",
    "mis([input(\"enter seq \")])\n",
    "print(mis(l))"
   ]
  },
  {
   "cell_type": "code",
   "execution_count": 13,
   "metadata": {},
   "outputs": [
    {
     "name": "stdout",
     "output_type": "stream",
     "text": [
      "enter a seq 12 24 35 24 88 120 155 88 120 155\n",
      "12 24 35 88 120 155\n"
     ]
    }
   ],
   "source": [
    "s = input(\"enter a seq \")\n",
    "l = s.split()\n",
    "k = []\n",
    "for i in l: \n",
    "    if (s.count(i)>1 and (i not in k)or s.count(i)==1):\n",
    "        k.append(i)\n",
    "print(' '.join(k))"
   ]
  }
 ],
 "metadata": {
  "kernelspec": {
   "display_name": "Python 3",
   "language": "python",
   "name": "python3"
  }
 },
 "nbformat": 4,
 "nbformat_minor": 4
}
