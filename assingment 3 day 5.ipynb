{
 "cells": [
  {
   "cell_type": "code",
   "execution_count": 50,
   "metadata": {},
   "outputs": [
    {
     "name": "stdout",
     "output_type": "stream",
     "text": [
      "20 NON EVEN PRIME NUMBERS ARE\n",
      "1\n",
      "3\n",
      "5\n",
      "7\n",
      "11\n",
      "13\n",
      "17\n",
      "19\n"
     ]
    }
   ],
   "source": [
    "print(\"20 NON EVEN PRIME NUMBERS ARE\")\n",
    "for s in range(1, 20, 2):\n",
    "   if s >=1:\n",
    "       for i in range(2, s):\n",
    "           if (s % i) == 0:\n",
    "               break\n",
    "       else:\n",
    "           print(s)"
   ]
  },
  {
   "cell_type": "code",
   "execution_count": 89,
   "metadata": {
    "scrolled": true
   },
   "outputs": [
    {
     "name": "stdout",
     "output_type": "stream",
     "text": [
      "<class 'str'> SAIKIRAN\n",
      "SAIKIRANBASA\n",
      "SAIKIRANSAIKIRAN\n",
      "SAIKIRAN\n",
      "S\n",
      "A\n",
      "12\n",
      "K\n",
      "NARIKIAS\n",
      "basa\n",
      "BOSO\n",
      "SMIKIRMN\n",
      "N\n",
      "SIIA\n",
      "1\n"
     ]
    }
   ],
   "source": [
    "str=\"SAIKIRAN\"\n",
    "str1= \"BASA\"\n",
    "print(type(str), str)\n",
    "print(str+str1)\n",
    "print(str*2)\n",
    "print(str.upper())\n",
    "print(max(str))\n",
    "print(min(str1))\n",
    "print(len(str+str1))\n",
    "print(str[3])\n",
    "print(str[::-1])\n",
    "print(str1.swapcase())\n",
    "print(str1.replace('A','O'))\n",
    "print(str.replace('A','M',))\n",
    "print(str[-1])\n",
    "print(str[::2])\n",
    "print(str.find('A'))"
   ]
  },
  {
   "cell_type": "code",
   "execution_count": 10,
   "metadata": {},
   "outputs": [
    {
     "name": "stdout",
     "output_type": "stream",
     "text": [
      "Enter a string ketan\n",
      "Enter another string taken\n",
      "t is is anagram\n"
     ]
    }
   ],
   "source": [
    "def xyz():\n",
    "    s1=input(\"Enter a string \")\n",
    "    s2=input(\"Enter another string \")\n",
    "    a= list(s1)\n",
    "    b=list(s2)\n",
    "    a.sort()\n",
    "    b.sort()\n",
    "    if a==b:\n",
    "        print(\"it is is anagram\")\n",
    "    else:\n",
    "        print(\"it is not anagram\")\n",
    "xyz()    "
   ]
  },
  {
   "cell_type": "code",
   "execution_count": 4,
   "metadata": {},
   "outputs": [
    {
     "name": "stdout",
     "output_type": "stream",
     "text": [
      "Enter a string  sai\n",
      "it is not palidrome\n"
     ]
    }
   ],
   "source": [
    "def abc():\n",
    "    s1=input(\"Enter a string  \")\n",
    "    s2= s1[::-1]\n",
    "    if s1==s2:\n",
    "        print(\"it is palidrome\")\n",
    "    else:\n",
    "        print(\"it is not palidrome\")\n",
    "abc()"
   ]
  },
  {
   "cell_type": "code",
   "execution_count": 92,
   "metadata": {},
   "outputs": [
    {
     "data": {
      "text/plain": [
       "'drdarshaningleaimltrainer'"
      ]
     },
     "execution_count": 92,
     "metadata": {},
     "output_type": "execute_result"
    }
   ],
   "source": [
    "def main(a):\n",
    "    a = [character for character in a if character.isalnum()]\n",
    "    (str(a).lower())\n",
    "    str1 = \"\"   \n",
    "    for ele in a: \n",
    "        str1 += ele  \n",
    "    return str1.lower() \n",
    "main(\"Dr. Darshan Ingle @AIML Trainer\")"
   ]
  }
 ],
 "metadata": {
  "kernelspec": {
   "display_name": "Python 3",
   "language": "python",
   "name": "python3"
  },
  "language_info": {
   "codemirror_mode": {
    "name": "ipython",
    "version": 3
   },
   "file_extension": ".py",
   "mimetype": "text/x-python",
   "name": "python",
   "nbconvert_exporter": "python",
   "pygments_lexer": "ipython3",
   "version": "3.7.6"
  }
 },
 "nbformat": 4,
 "nbformat_minor": 4
}
