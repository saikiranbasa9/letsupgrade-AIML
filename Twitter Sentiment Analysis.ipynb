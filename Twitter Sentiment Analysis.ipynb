{
 "cells": [
  {
   "cell_type": "markdown",
   "metadata": {},
   "source": [
    "# Problem Statement:\n",
    "\n",
    "You want to collect text data using Twitter API.\n",
    "\n",
    "https://developer.twitter.com/en\n",
    "\n",
    "# AIML Batch2:\n",
    "\n",
    "__Consumer API keys__\n",
    "\n",
    "__API key:__\n",
    "\n",
    "nucwiQk9GtsJfWFSGQjXFicnq\n",
    "\n",
    "__API secret key:__\n",
    "\n",
    "psbIvsTINgr6eEu89jMe2FwsOM28Cs3KaVLWUfBjADkAfFfhZV\n",
    "\n",
    "__Access token:__\n",
    "\n",
    "296102538-4rqAPJBZSl2dQW2Wd1qvciWfkNKFpv9GZ3IBp5t7\n",
    "\n",
    "__Access token secret:__\n",
    "\n",
    "FoCmyrWsWVeyxjksdRwqujVyzQGT9tZVjRGqJoav021MU\n",
    "\n",
    "https://anaconda.org/conda-forge/tweepy\n",
    "\n",
    "https://anaconda.org/anaconda/openpyxl"
   ]
  },
  {
   "cell_type": "code",
   "execution_count": 1,
   "metadata": {},
   "outputs": [],
   "source": [
    "import numpy as np\n",
    "import pandas as pd\n",
    "import warnings\n",
    "warnings.filterwarnings('ignore')\n",
    "import json"
   ]
  },
  {
   "cell_type": "code",
   "execution_count": 2,
   "metadata": {},
   "outputs": [],
   "source": [
    "import tweepy\n",
    "import openpyxl\n",
    "from tweepy import OAuthHandler"
   ]
  },
  {
   "cell_type": "code",
   "execution_count": 3,
   "metadata": {},
   "outputs": [],
   "source": [
    "# credentials\n",
    "\n",
    "consumer_key = \"nucwiQk9GtsJfWFSGQjXFicnq\"\n",
    "consumer_secret = \"psbIvsTINgr6eEu89jMe2FwsOM28Cs3KaVLWUfBjADkAfFfhZV\"\n",
    "access_token = \"296102538-4rqAPJBZSl2dQW2Wd1qvciWfkNKFpv9GZ3IBp5t7\"\n",
    "access_token_secret = \"FoCmyrWsWVeyxjksdRwqujVyzQGT9tZVjRGqJoav021MU\""
   ]
  },
  {
   "cell_type": "code",
   "execution_count": 4,
   "metadata": {},
   "outputs": [],
   "source": [
    "# call API\n",
    "auth = tweepy.OAuthHandler(consumer_key, consumer_secret)\n",
    "auth.set_access_token(access_token, access_token_secret)\n",
    "api = tweepy.API(auth)"
   ]
  },
  {
   "cell_type": "code",
   "execution_count": 5,
   "metadata": {},
   "outputs": [
    {
     "name": "stdout",
     "output_type": "stream",
     "text": [
      "Status(_api=<tweepy.api.API object at 0x000001660C601D60>, _json={'created_at': 'Sat Jun 19 05:21:26 +0000 2021', 'id': 1406119911508828161, 'id_str': '1406119911508828161', 'full_text': '@mazemoore @Rachael1776 Fast forward to 2019.\\n\\nBiden: “China is going to eat our lunch? Come on, man.\\n\\nI mean, you know, they’re not bad folks, folks. But guess what? They’re not competition for us,”\\n\\nMmmm..what happened in the intervening years for you to change your mind Joe?\\n\\nhttps://t.co/uCbC7e6rKr', 'truncated': False, 'display_text_range': [24, 303], 'entities': {'hashtags': [], 'symbols': [], 'user_mentions': [{'screen_name': 'mazemoore', 'name': 'Maze', 'id': 1394680198705123329, 'id_str': '1394680198705123329', 'indices': [0, 10]}, {'screen_name': 'Rachael1776', 'name': 'Rachael Coleman 🇺🇸', 'id': 345019341, 'id_str': '345019341', 'indices': [11, 23]}], 'urls': [{'url': 'https://t.co/uCbC7e6rKr', 'expanded_url': 'https://www.nbcnews.com/politics/2020-election/biden-s-comments-downplaying-china-threat-u-s-fires-pols-n1001236', 'display_url': 'nbcnews.com/politics/2020-…', 'indices': [280, 303]}]}, 'metadata': {'iso_language_code': 'en', 'result_type': 'recent'}, 'source': '<a href=\"https://mobile.twitter.com\" rel=\"nofollow\">Twitter Web App</a>', 'in_reply_to_status_id': 1405134843416092675, 'in_reply_to_status_id_str': '1405134843416092675', 'in_reply_to_user_id': 1394680198705123329, 'in_reply_to_user_id_str': '1394680198705123329', 'in_reply_to_screen_name': 'mazemoore', 'user': {'id': 1149593476675194884, 'id_str': '1149593476675194884', 'name': 'Victorian Dad', 'screen_name': 'Victorian__Dad', 'location': 'Currently at Siege of Khartoum', 'description': 'Socialism is the equal sharing of misery. A Tory when they used to be Tory; History & politics; anti-hypocrisy, Brit/US, Disraeli fan. Oppose woke fakery', 'url': 'https://t.co/TzZfCXjbxb', 'entities': {'url': {'urls': [{'url': 'https://t.co/TzZfCXjbxb', 'expanded_url': 'https://www.youtube.com/watch?v=dZwBIY-o_cQ&t=232s', 'display_url': 'youtube.com/watch?v=dZwBIY…', 'indices': [0, 23]}]}, 'description': {'urls': []}}, 'protected': False, 'followers_count': 859, 'friends_count': 1305, 'listed_count': 3, 'created_at': 'Fri Jul 12 08:16:58 +0000 2019', 'favourites_count': 8586, 'utc_offset': None, 'time_zone': None, 'geo_enabled': False, 'verified': False, 'statuses_count': 19759, 'lang': None, 'contributors_enabled': False, 'is_translator': False, 'is_translation_enabled': False, 'profile_background_color': 'F5F8FA', 'profile_background_image_url': None, 'profile_background_image_url_https': None, 'profile_background_tile': False, 'profile_image_url': 'http://pbs.twimg.com/profile_images/1399610346592260097/ftmWjWvu_normal.jpg', 'profile_image_url_https': 'https://pbs.twimg.com/profile_images/1399610346592260097/ftmWjWvu_normal.jpg', 'profile_banner_url': 'https://pbs.twimg.com/profile_banners/1149593476675194884/1613123680', 'profile_link_color': '1DA1F2', 'profile_sidebar_border_color': 'C0DEED', 'profile_sidebar_fill_color': 'DDEEF6', 'profile_text_color': '333333', 'profile_use_background_image': True, 'has_extended_profile': False, 'default_profile': True, 'default_profile_image': False, 'following': False, 'follow_request_sent': False, 'notifications': False, 'translator_type': 'none', 'withheld_in_countries': []}, 'geo': None, 'coordinates': None, 'place': None, 'contributors': None, 'is_quote_status': False, 'retweet_count': 0, 'favorite_count': 0, 'favorited': False, 'retweeted': False, 'possibly_sensitive': False, 'lang': 'en'}, created_at=datetime.datetime(2021, 6, 19, 5, 21, 26), id=1406119911508828161, id_str='1406119911508828161', full_text='@mazemoore @Rachael1776 Fast forward to 2019.\\n\\nBiden: “China is going to eat our lunch? Come on, man.\\n\\nI mean, you know, they’re not bad folks, folks. But guess what? They’re not competition for us,”\\n\\nMmmm..what happened in the intervening years for you to change your mind Joe?\\n\\nhttps://t.co/uCbC7e6rKr', truncated=False, display_text_range=[24, 303], entities={'hashtags': [], 'symbols': [], 'user_mentions': [{'screen_name': 'mazemoore', 'name': 'Maze', 'id': 1394680198705123329, 'id_str': '1394680198705123329', 'indices': [0, 10]}, {'screen_name': 'Rachael1776', 'name': 'Rachael Coleman 🇺🇸', 'id': 345019341, 'id_str': '345019341', 'indices': [11, 23]}], 'urls': [{'url': 'https://t.co/uCbC7e6rKr', 'expanded_url': 'https://www.nbcnews.com/politics/2020-election/biden-s-comments-downplaying-china-threat-u-s-fires-pols-n1001236', 'display_url': 'nbcnews.com/politics/2020-…', 'indices': [280, 303]}]}, metadata={'iso_language_code': 'en', 'result_type': 'recent'}, source='Twitter Web App', source_url='https://mobile.twitter.com', in_reply_to_status_id=1405134843416092675, in_reply_to_status_id_str='1405134843416092675', in_reply_to_user_id=1394680198705123329, in_reply_to_user_id_str='1394680198705123329', in_reply_to_screen_name='mazemoore', author=User(_api=<tweepy.api.API object at 0x000001660C601D60>, _json={'id': 1149593476675194884, 'id_str': '1149593476675194884', 'name': 'Victorian Dad', 'screen_name': 'Victorian__Dad', 'location': 'Currently at Siege of Khartoum', 'description': 'Socialism is the equal sharing of misery. A Tory when they used to be Tory; History & politics; anti-hypocrisy, Brit/US, Disraeli fan. Oppose woke fakery', 'url': 'https://t.co/TzZfCXjbxb', 'entities': {'url': {'urls': [{'url': 'https://t.co/TzZfCXjbxb', 'expanded_url': 'https://www.youtube.com/watch?v=dZwBIY-o_cQ&t=232s', 'display_url': 'youtube.com/watch?v=dZwBIY…', 'indices': [0, 23]}]}, 'description': {'urls': []}}, 'protected': False, 'followers_count': 859, 'friends_count': 1305, 'listed_count': 3, 'created_at': 'Fri Jul 12 08:16:58 +0000 2019', 'favourites_count': 8586, 'utc_offset': None, 'time_zone': None, 'geo_enabled': False, 'verified': False, 'statuses_count': 19759, 'lang': None, 'contributors_enabled': False, 'is_translator': False, 'is_translation_enabled': False, 'profile_background_color': 'F5F8FA', 'profile_background_image_url': None, 'profile_background_image_url_https': None, 'profile_background_tile': False, 'profile_image_url': 'http://pbs.twimg.com/profile_images/1399610346592260097/ftmWjWvu_normal.jpg', 'profile_image_url_https': 'https://pbs.twimg.com/profile_images/1399610346592260097/ftmWjWvu_normal.jpg', 'profile_banner_url': 'https://pbs.twimg.com/profile_banners/1149593476675194884/1613123680', 'profile_link_color': '1DA1F2', 'profile_sidebar_border_color': 'C0DEED', 'profile_sidebar_fill_color': 'DDEEF6', 'profile_text_color': '333333', 'profile_use_background_image': True, 'has_extended_profile': False, 'default_profile': True, 'default_profile_image': False, 'following': False, 'follow_request_sent': False, 'notifications': False, 'translator_type': 'none', 'withheld_in_countries': []}, id=1149593476675194884, id_str='1149593476675194884', name='Victorian Dad', screen_name='Victorian__Dad', location='Currently at Siege of Khartoum', description='Socialism is the equal sharing of misery. A Tory when they used to be Tory; History & politics; anti-hypocrisy, Brit/US, Disraeli fan. Oppose woke fakery', url='https://t.co/TzZfCXjbxb', entities={'url': {'urls': [{'url': 'https://t.co/TzZfCXjbxb', 'expanded_url': 'https://www.youtube.com/watch?v=dZwBIY-o_cQ&t=232s', 'display_url': 'youtube.com/watch?v=dZwBIY…', 'indices': [0, 23]}]}, 'description': {'urls': []}}, protected=False, followers_count=859, friends_count=1305, listed_count=3, created_at=datetime.datetime(2019, 7, 12, 8, 16, 58), favourites_count=8586, utc_offset=None, time_zone=None, geo_enabled=False, verified=False, statuses_count=19759, lang=None, contributors_enabled=False, is_translator=False, is_translation_enabled=False, profile_background_color='F5F8FA', profile_background_image_url=None, profile_background_image_url_https=None, profile_background_tile=False, profile_image_url='http://pbs.twimg.com/profile_images/1399610346592260097/ftmWjWvu_normal.jpg', profile_image_url_https='https://pbs.twimg.com/profile_images/1399610346592260097/ftmWjWvu_normal.jpg', profile_banner_url='https://pbs.twimg.com/profile_banners/1149593476675194884/1613123680', profile_link_color='1DA1F2', profile_sidebar_border_color='C0DEED', profile_sidebar_fill_color='DDEEF6', profile_text_color='333333', profile_use_background_image=True, has_extended_profile=False, default_profile=True, default_profile_image=False, following=False, follow_request_sent=False, notifications=False, translator_type='none', withheld_in_countries=[]), user=User(_api=<tweepy.api.API object at 0x000001660C601D60>, _json={'id': 1149593476675194884, 'id_str': '1149593476675194884', 'name': 'Victorian Dad', 'screen_name': 'Victorian__Dad', 'location': 'Currently at Siege of Khartoum', 'description': 'Socialism is the equal sharing of misery. A Tory when they used to be Tory; History & politics; anti-hypocrisy, Brit/US, Disraeli fan. Oppose woke fakery', 'url': 'https://t.co/TzZfCXjbxb', 'entities': {'url': {'urls': [{'url': 'https://t.co/TzZfCXjbxb', 'expanded_url': 'https://www.youtube.com/watch?v=dZwBIY-o_cQ&t=232s', 'display_url': 'youtube.com/watch?v=dZwBIY…', 'indices': [0, 23]}]}, 'description': {'urls': []}}, 'protected': False, 'followers_count': 859, 'friends_count': 1305, 'listed_count': 3, 'created_at': 'Fri Jul 12 08:16:58 +0000 2019', 'favourites_count': 8586, 'utc_offset': None, 'time_zone': None, 'geo_enabled': False, 'verified': False, 'statuses_count': 19759, 'lang': None, 'contributors_enabled': False, 'is_translator': False, 'is_translation_enabled': False, 'profile_background_color': 'F5F8FA', 'profile_background_image_url': None, 'profile_background_image_url_https': None, 'profile_background_tile': False, 'profile_image_url': 'http://pbs.twimg.com/profile_images/1399610346592260097/ftmWjWvu_normal.jpg', 'profile_image_url_https': 'https://pbs.twimg.com/profile_images/1399610346592260097/ftmWjWvu_normal.jpg', 'profile_banner_url': 'https://pbs.twimg.com/profile_banners/1149593476675194884/1613123680', 'profile_link_color': '1DA1F2', 'profile_sidebar_border_color': 'C0DEED', 'profile_sidebar_fill_color': 'DDEEF6', 'profile_text_color': '333333', 'profile_use_background_image': True, 'has_extended_profile': False, 'default_profile': True, 'default_profile_image': False, 'following': False, 'follow_request_sent': False, 'notifications': False, 'translator_type': 'none', 'withheld_in_countries': []}, id=1149593476675194884, id_str='1149593476675194884', name='Victorian Dad', screen_name='Victorian__Dad', location='Currently at Siege of Khartoum', description='Socialism is the equal sharing of misery. A Tory when they used to be Tory; History & politics; anti-hypocrisy, Brit/US, Disraeli fan. Oppose woke fakery', url='https://t.co/TzZfCXjbxb', entities={'url': {'urls': [{'url': 'https://t.co/TzZfCXjbxb', 'expanded_url': 'https://www.youtube.com/watch?v=dZwBIY-o_cQ&t=232s', 'display_url': 'youtube.com/watch?v=dZwBIY…', 'indices': [0, 23]}]}, 'description': {'urls': []}}, protected=False, followers_count=859, friends_count=1305, listed_count=3, created_at=datetime.datetime(2019, 7, 12, 8, 16, 58), favourites_count=8586, utc_offset=None, time_zone=None, geo_enabled=False, verified=False, statuses_count=19759, lang=None, contributors_enabled=False, is_translator=False, is_translation_enabled=False, profile_background_color='F5F8FA', profile_background_image_url=None, profile_background_image_url_https=None, profile_background_tile=False, profile_image_url='http://pbs.twimg.com/profile_images/1399610346592260097/ftmWjWvu_normal.jpg', profile_image_url_https='https://pbs.twimg.com/profile_images/1399610346592260097/ftmWjWvu_normal.jpg', profile_banner_url='https://pbs.twimg.com/profile_banners/1149593476675194884/1613123680', profile_link_color='1DA1F2', profile_sidebar_border_color='C0DEED', profile_sidebar_fill_color='DDEEF6', profile_text_color='333333', profile_use_background_image=True, has_extended_profile=False, default_profile=True, default_profile_image=False, following=False, follow_request_sent=False, notifications=False, translator_type='none', withheld_in_countries=[]), geo=None, coordinates=None, place=None, contributors=None, is_quote_status=False, retweet_count=0, favorite_count=0, favorited=False, retweeted=False, possibly_sensitive=False, lang='en')\n",
      "=================================================\n",
      "Status(_api=<tweepy.api.API object at 0x000001660C601D60>, _json={'created_at': 'Sat Jun 19 03:16:58 +0000 2021', 'id': 1406088589553897475, 'id_str': '1406088589553897475', 'full_text': '@rkinseth @mikepompeo @SenateGOP What is it called when people aid &amp; abet hostile foreign attacks on their own country, Rick?\\n\\nFBI Director Wray warned us less than a year ago.\\n\\nsource: Business Insider \\nhttps://t.co/m16W5aKeY5', 'truncated': False, 'display_text_range': [33, 231], 'entities': {'hashtags': [], 'symbols': [], 'user_mentions': [{'screen_name': 'rkinseth', 'name': 'Rick Kinseth', 'id': 1429245848, 'id_str': '1429245848', 'indices': [0, 9]}, {'screen_name': 'mikepompeo', 'name': 'Mike Pompeo', 'id': 1163992520252153857, 'id_str': '1163992520252153857', 'indices': [10, 21]}, {'screen_name': 'SenateGOP', 'name': 'Senate Republicans', 'id': 14344823, 'id_str': '14344823', 'indices': [22, 32]}], 'urls': [{'url': 'https://t.co/m16W5aKeY5', 'expanded_url': 'https://www.msn.com/en-us/news/politics/fbi-director-christopher-wray-says-russia-is-meddling-in-the-2020-election-to-denigrate-joe-biden/ar-BB199xcz?ocid=uxbndlbing', 'display_url': 'msn.com/en-us/news/pol…', 'indices': [208, 231]}]}, 'metadata': {'iso_language_code': 'en', 'result_type': 'recent'}, 'source': '<a href=\"http://twitter.com/#!/download/ipad\" rel=\"nofollow\">Twitter for iPad</a>', 'in_reply_to_status_id': 1406087941282205697, 'in_reply_to_status_id_str': '1406087941282205697', 'in_reply_to_user_id': 1429245848, 'in_reply_to_user_id_str': '1429245848', 'in_reply_to_screen_name': 'rkinseth', 'user': {'id': 1260440701, 'id_str': '1260440701', 'name': 'Happy Chichester', 'screen_name': 'HappyChichester', 'location': 'Columbus, Ohio', 'description': 'Singer, songwriter, multi-instrumental', 'url': 'https://t.co/6EznA88ph7', 'entities': {'url': {'urls': [{'url': 'https://t.co/6EznA88ph7', 'expanded_url': 'https://happychichester.bandcamp.com/music', 'display_url': 'happychichester.bandcamp.com/music', 'indices': [0, 23]}]}, 'description': {'urls': []}}, 'protected': False, 'followers_count': 5088, 'friends_count': 4880, 'listed_count': 106, 'created_at': 'Mon Mar 11 21:16:14 +0000 2013', 'favourites_count': 413550, 'utc_offset': None, 'time_zone': None, 'geo_enabled': False, 'verified': False, 'statuses_count': 131074, 'lang': None, 'contributors_enabled': False, 'is_translator': False, 'is_translation_enabled': False, 'profile_background_color': 'C0DEED', 'profile_background_image_url': 'http://abs.twimg.com/images/themes/theme1/bg.png', 'profile_background_image_url_https': 'https://abs.twimg.com/images/themes/theme1/bg.png', 'profile_background_tile': False, 'profile_image_url': 'http://pbs.twimg.com/profile_images/1254629281566789637/cpvCJlOo_normal.jpg', 'profile_image_url_https': 'https://pbs.twimg.com/profile_images/1254629281566789637/cpvCJlOo_normal.jpg', 'profile_banner_url': 'https://pbs.twimg.com/profile_banners/1260440701/1534748307', 'profile_link_color': '1DA1F2', 'profile_sidebar_border_color': 'C0DEED', 'profile_sidebar_fill_color': 'DDEEF6', 'profile_text_color': '333333', 'profile_use_background_image': True, 'has_extended_profile': False, 'default_profile': True, 'default_profile_image': False, 'following': False, 'follow_request_sent': False, 'notifications': False, 'translator_type': 'none', 'withheld_in_countries': []}, 'geo': None, 'coordinates': None, 'place': None, 'contributors': None, 'is_quote_status': False, 'retweet_count': 0, 'favorite_count': 0, 'favorited': False, 'retweeted': False, 'possibly_sensitive': False, 'lang': 'en'}, created_at=datetime.datetime(2021, 6, 19, 3, 16, 58), id=1406088589553897475, id_str='1406088589553897475', full_text='@rkinseth @mikepompeo @SenateGOP What is it called when people aid &amp; abet hostile foreign attacks on their own country, Rick?\\n\\nFBI Director Wray warned us less than a year ago.\\n\\nsource: Business Insider \\nhttps://t.co/m16W5aKeY5', truncated=False, display_text_range=[33, 231], entities={'hashtags': [], 'symbols': [], 'user_mentions': [{'screen_name': 'rkinseth', 'name': 'Rick Kinseth', 'id': 1429245848, 'id_str': '1429245848', 'indices': [0, 9]}, {'screen_name': 'mikepompeo', 'name': 'Mike Pompeo', 'id': 1163992520252153857, 'id_str': '1163992520252153857', 'indices': [10, 21]}, {'screen_name': 'SenateGOP', 'name': 'Senate Republicans', 'id': 14344823, 'id_str': '14344823', 'indices': [22, 32]}], 'urls': [{'url': 'https://t.co/m16W5aKeY5', 'expanded_url': 'https://www.msn.com/en-us/news/politics/fbi-director-christopher-wray-says-russia-is-meddling-in-the-2020-election-to-denigrate-joe-biden/ar-BB199xcz?ocid=uxbndlbing', 'display_url': 'msn.com/en-us/news/pol…', 'indices': [208, 231]}]}, metadata={'iso_language_code': 'en', 'result_type': 'recent'}, source='Twitter for iPad', source_url='http://twitter.com/#!/download/ipad', in_reply_to_status_id=1406087941282205697, in_reply_to_status_id_str='1406087941282205697', in_reply_to_user_id=1429245848, in_reply_to_user_id_str='1429245848', in_reply_to_screen_name='rkinseth', author=User(_api=<tweepy.api.API object at 0x000001660C601D60>, _json={'id': 1260440701, 'id_str': '1260440701', 'name': 'Happy Chichester', 'screen_name': 'HappyChichester', 'location': 'Columbus, Ohio', 'description': 'Singer, songwriter, multi-instrumental', 'url': 'https://t.co/6EznA88ph7', 'entities': {'url': {'urls': [{'url': 'https://t.co/6EznA88ph7', 'expanded_url': 'https://happychichester.bandcamp.com/music', 'display_url': 'happychichester.bandcamp.com/music', 'indices': [0, 23]}]}, 'description': {'urls': []}}, 'protected': False, 'followers_count': 5088, 'friends_count': 4880, 'listed_count': 106, 'created_at': 'Mon Mar 11 21:16:14 +0000 2013', 'favourites_count': 413550, 'utc_offset': None, 'time_zone': None, 'geo_enabled': False, 'verified': False, 'statuses_count': 131074, 'lang': None, 'contributors_enabled': False, 'is_translator': False, 'is_translation_enabled': False, 'profile_background_color': 'C0DEED', 'profile_background_image_url': 'http://abs.twimg.com/images/themes/theme1/bg.png', 'profile_background_image_url_https': 'https://abs.twimg.com/images/themes/theme1/bg.png', 'profile_background_tile': False, 'profile_image_url': 'http://pbs.twimg.com/profile_images/1254629281566789637/cpvCJlOo_normal.jpg', 'profile_image_url_https': 'https://pbs.twimg.com/profile_images/1254629281566789637/cpvCJlOo_normal.jpg', 'profile_banner_url': 'https://pbs.twimg.com/profile_banners/1260440701/1534748307', 'profile_link_color': '1DA1F2', 'profile_sidebar_border_color': 'C0DEED', 'profile_sidebar_fill_color': 'DDEEF6', 'profile_text_color': '333333', 'profile_use_background_image': True, 'has_extended_profile': False, 'default_profile': True, 'default_profile_image': False, 'following': False, 'follow_request_sent': False, 'notifications': False, 'translator_type': 'none', 'withheld_in_countries': []}, id=1260440701, id_str='1260440701', name='Happy Chichester', screen_name='HappyChichester', location='Columbus, Ohio', description='Singer, songwriter, multi-instrumental', url='https://t.co/6EznA88ph7', entities={'url': {'urls': [{'url': 'https://t.co/6EznA88ph7', 'expanded_url': 'https://happychichester.bandcamp.com/music', 'display_url': 'happychichester.bandcamp.com/music', 'indices': [0, 23]}]}, 'description': {'urls': []}}, protected=False, followers_count=5088, friends_count=4880, listed_count=106, created_at=datetime.datetime(2013, 3, 11, 21, 16, 14), favourites_count=413550, utc_offset=None, time_zone=None, geo_enabled=False, verified=False, statuses_count=131074, lang=None, contributors_enabled=False, is_translator=False, is_translation_enabled=False, profile_background_color='C0DEED', profile_background_image_url='http://abs.twimg.com/images/themes/theme1/bg.png', profile_background_image_url_https='https://abs.twimg.com/images/themes/theme1/bg.png', profile_background_tile=False, profile_image_url='http://pbs.twimg.com/profile_images/1254629281566789637/cpvCJlOo_normal.jpg', profile_image_url_https='https://pbs.twimg.com/profile_images/1254629281566789637/cpvCJlOo_normal.jpg', profile_banner_url='https://pbs.twimg.com/profile_banners/1260440701/1534748307', profile_link_color='1DA1F2', profile_sidebar_border_color='C0DEED', profile_sidebar_fill_color='DDEEF6', profile_text_color='333333', profile_use_background_image=True, has_extended_profile=False, default_profile=True, default_profile_image=False, following=False, follow_request_sent=False, notifications=False, translator_type='none', withheld_in_countries=[]), user=User(_api=<tweepy.api.API object at 0x000001660C601D60>, _json={'id': 1260440701, 'id_str': '1260440701', 'name': 'Happy Chichester', 'screen_name': 'HappyChichester', 'location': 'Columbus, Ohio', 'description': 'Singer, songwriter, multi-instrumental', 'url': 'https://t.co/6EznA88ph7', 'entities': {'url': {'urls': [{'url': 'https://t.co/6EznA88ph7', 'expanded_url': 'https://happychichester.bandcamp.com/music', 'display_url': 'happychichester.bandcamp.com/music', 'indices': [0, 23]}]}, 'description': {'urls': []}}, 'protected': False, 'followers_count': 5088, 'friends_count': 4880, 'listed_count': 106, 'created_at': 'Mon Mar 11 21:16:14 +0000 2013', 'favourites_count': 413550, 'utc_offset': None, 'time_zone': None, 'geo_enabled': False, 'verified': False, 'statuses_count': 131074, 'lang': None, 'contributors_enabled': False, 'is_translator': False, 'is_translation_enabled': False, 'profile_background_color': 'C0DEED', 'profile_background_image_url': 'http://abs.twimg.com/images/themes/theme1/bg.png', 'profile_background_image_url_https': 'https://abs.twimg.com/images/themes/theme1/bg.png', 'profile_background_tile': False, 'profile_image_url': 'http://pbs.twimg.com/profile_images/1254629281566789637/cpvCJlOo_normal.jpg', 'profile_image_url_https': 'https://pbs.twimg.com/profile_images/1254629281566789637/cpvCJlOo_normal.jpg', 'profile_banner_url': 'https://pbs.twimg.com/profile_banners/1260440701/1534748307', 'profile_link_color': '1DA1F2', 'profile_sidebar_border_color': 'C0DEED', 'profile_sidebar_fill_color': 'DDEEF6', 'profile_text_color': '333333', 'profile_use_background_image': True, 'has_extended_profile': False, 'default_profile': True, 'default_profile_image': False, 'following': False, 'follow_request_sent': False, 'notifications': False, 'translator_type': 'none', 'withheld_in_countries': []}, id=1260440701, id_str='1260440701', name='Happy Chichester', screen_name='HappyChichester', location='Columbus, Ohio', description='Singer, songwriter, multi-instrumental', url='https://t.co/6EznA88ph7', entities={'url': {'urls': [{'url': 'https://t.co/6EznA88ph7', 'expanded_url': 'https://happychichester.bandcamp.com/music', 'display_url': 'happychichester.bandcamp.com/music', 'indices': [0, 23]}]}, 'description': {'urls': []}}, protected=False, followers_count=5088, friends_count=4880, listed_count=106, created_at=datetime.datetime(2013, 3, 11, 21, 16, 14), favourites_count=413550, utc_offset=None, time_zone=None, geo_enabled=False, verified=False, statuses_count=131074, lang=None, contributors_enabled=False, is_translator=False, is_translation_enabled=False, profile_background_color='C0DEED', profile_background_image_url='http://abs.twimg.com/images/themes/theme1/bg.png', profile_background_image_url_https='https://abs.twimg.com/images/themes/theme1/bg.png', profile_background_tile=False, profile_image_url='http://pbs.twimg.com/profile_images/1254629281566789637/cpvCJlOo_normal.jpg', profile_image_url_https='https://pbs.twimg.com/profile_images/1254629281566789637/cpvCJlOo_normal.jpg', profile_banner_url='https://pbs.twimg.com/profile_banners/1260440701/1534748307', profile_link_color='1DA1F2', profile_sidebar_border_color='C0DEED', profile_sidebar_fill_color='DDEEF6', profile_text_color='333333', profile_use_background_image=True, has_extended_profile=False, default_profile=True, default_profile_image=False, following=False, follow_request_sent=False, notifications=False, translator_type='none', withheld_in_countries=[]), geo=None, coordinates=None, place=None, contributors=None, is_quote_status=False, retweet_count=0, favorite_count=0, favorited=False, retweeted=False, possibly_sensitive=False, lang='en')\n",
      "=================================================\n",
      "Status(_api=<tweepy.api.API object at 0x000001660C601D60>, _json={'created_at': 'Sat Jun 19 03:14:33 +0000 2021', 'id': 1406087983338430472, 'id_str': '1406087983338430472', 'full_text': 'Ronald Rosevelt News ⚖\\nDO YOU KNOWS HOW  ?📰\\nWARNING ⚠️⛔🔬\\nThe US JUSTICE DEPARTMENT 📩📬📮⚖&amp; FBI, ...WILL EXPAND THE INVESTIGATION INTO THE US ELECTION FRAUD CASE INTO US PRESIDENT JOE BIDEN.🇺🇸 📚📃...\\n(...)\\nThe Washington post  , CNN  , BBC  , REUTERS  , AFP  , ... https://t.co/Jyr6VSd7Ur', 'truncated': False, 'display_text_range': [0, 264], 'entities': {'hashtags': [], 'symbols': [], 'user_mentions': [], 'urls': [], 'media': [{'id': 1406087968918433795, 'id_str': '1406087968918433795', 'indices': [265, 288], 'media_url': 'http://pbs.twimg.com/media/E4NtjtZVcAMSsRV.jpg', 'media_url_https': 'https://pbs.twimg.com/media/E4NtjtZVcAMSsRV.jpg', 'url': 'https://t.co/Jyr6VSd7Ur', 'display_url': 'pic.twitter.com/Jyr6VSd7Ur', 'expanded_url': 'https://twitter.com/NguynHo29253600/status/1406087983338430472/photo/1', 'type': 'photo', 'sizes': {'small': {'w': 548, 'h': 319, 'resize': 'fit'}, 'thumb': {'w': 150, 'h': 150, 'resize': 'crop'}, 'large': {'w': 548, 'h': 319, 'resize': 'fit'}, 'medium': {'w': 548, 'h': 319, 'resize': 'fit'}}}]}, 'extended_entities': {'media': [{'id': 1406087968918433795, 'id_str': '1406087968918433795', 'indices': [265, 288], 'media_url': 'http://pbs.twimg.com/media/E4NtjtZVcAMSsRV.jpg', 'media_url_https': 'https://pbs.twimg.com/media/E4NtjtZVcAMSsRV.jpg', 'url': 'https://t.co/Jyr6VSd7Ur', 'display_url': 'pic.twitter.com/Jyr6VSd7Ur', 'expanded_url': 'https://twitter.com/NguynHo29253600/status/1406087983338430472/photo/1', 'type': 'photo', 'sizes': {'small': {'w': 548, 'h': 319, 'resize': 'fit'}, 'thumb': {'w': 150, 'h': 150, 'resize': 'crop'}, 'large': {'w': 548, 'h': 319, 'resize': 'fit'}, 'medium': {'w': 548, 'h': 319, 'resize': 'fit'}}}, {'id': 1406087972416475140, 'id_str': '1406087972416475140', 'indices': [265, 288], 'media_url': 'http://pbs.twimg.com/media/E4Ntj6bVUAQcZyo.jpg', 'media_url_https': 'https://pbs.twimg.com/media/E4Ntj6bVUAQcZyo.jpg', 'url': 'https://t.co/Jyr6VSd7Ur', 'display_url': 'pic.twitter.com/Jyr6VSd7Ur', 'expanded_url': 'https://twitter.com/NguynHo29253600/status/1406087983338430472/photo/1', 'type': 'photo', 'sizes': {'thumb': {'w': 150, 'h': 150, 'resize': 'crop'}, 'medium': {'w': 414, 'h': 276, 'resize': 'fit'}, 'large': {'w': 414, 'h': 276, 'resize': 'fit'}, 'small': {'w': 414, 'h': 276, 'resize': 'fit'}}}, {'id': 1406087976258445313, 'id_str': '1406087976258445313', 'indices': [265, 288], 'media_url': 'http://pbs.twimg.com/media/E4NtkIvVIAEwn9Z.jpg', 'media_url_https': 'https://pbs.twimg.com/media/E4NtkIvVIAEwn9Z.jpg', 'url': 'https://t.co/Jyr6VSd7Ur', 'display_url': 'pic.twitter.com/Jyr6VSd7Ur', 'expanded_url': 'https://twitter.com/NguynHo29253600/status/1406087983338430472/photo/1', 'type': 'photo', 'sizes': {'large': {'w': 660, 'h': 371, 'resize': 'fit'}, 'thumb': {'w': 150, 'h': 150, 'resize': 'crop'}, 'medium': {'w': 660, 'h': 371, 'resize': 'fit'}, 'small': {'w': 660, 'h': 371, 'resize': 'fit'}}}, {'id': 1406087980247252994, 'id_str': '1406087980247252994', 'indices': [265, 288], 'media_url': 'http://pbs.twimg.com/media/E4NtkXmVgAIZEX7.jpg', 'media_url_https': 'https://pbs.twimg.com/media/E4NtkXmVgAIZEX7.jpg', 'url': 'https://t.co/Jyr6VSd7Ur', 'display_url': 'pic.twitter.com/Jyr6VSd7Ur', 'expanded_url': 'https://twitter.com/NguynHo29253600/status/1406087983338430472/photo/1', 'type': 'photo', 'sizes': {'large': {'w': 480, 'h': 300, 'resize': 'fit'}, 'thumb': {'w': 150, 'h': 150, 'resize': 'crop'}, 'small': {'w': 480, 'h': 300, 'resize': 'fit'}, 'medium': {'w': 480, 'h': 300, 'resize': 'fit'}}}]}, 'metadata': {'iso_language_code': 'en', 'result_type': 'recent'}, 'source': '<a href=\"http://twitter.com/download/android\" rel=\"nofollow\">Twitter for Android</a>', 'in_reply_to_status_id': None, 'in_reply_to_status_id_str': None, 'in_reply_to_user_id': None, 'in_reply_to_user_id_str': None, 'in_reply_to_screen_name': None, 'user': {'id': 1398486699722756096, 'id_str': '1398486699722756096', 'name': 'Nguyên Hoang Minh Tuân', 'screen_name': 'NguynHo29253600', 'location': '', 'description': '', 'url': None, 'entities': {'description': {'urls': []}}, 'protected': False, 'followers_count': 66, 'friends_count': 426, 'listed_count': 0, 'created_at': 'Sat May 29 03:50:05 +0000 2021', 'favourites_count': 256, 'utc_offset': None, 'time_zone': None, 'geo_enabled': True, 'verified': False, 'statuses_count': 308, 'lang': None, 'contributors_enabled': False, 'is_translator': False, 'is_translation_enabled': False, 'profile_background_color': 'F5F8FA', 'profile_background_image_url': None, 'profile_background_image_url_https': None, 'profile_background_tile': False, 'profile_image_url': 'http://pbs.twimg.com/profile_images/1404502507749986307/UxrCFgyV_normal.jpg', 'profile_image_url_https': 'https://pbs.twimg.com/profile_images/1404502507749986307/UxrCFgyV_normal.jpg', 'profile_link_color': '1DA1F2', 'profile_sidebar_border_color': 'C0DEED', 'profile_sidebar_fill_color': 'DDEEF6', 'profile_text_color': '333333', 'profile_use_background_image': True, 'has_extended_profile': True, 'default_profile': True, 'default_profile_image': False, 'following': False, 'follow_request_sent': False, 'notifications': False, 'translator_type': 'none', 'withheld_in_countries': []}, 'geo': None, 'coordinates': None, 'place': None, 'contributors': None, 'is_quote_status': False, 'retweet_count': 1, 'favorite_count': 1, 'favorited': False, 'retweeted': False, 'possibly_sensitive': False, 'lang': 'en'}, created_at=datetime.datetime(2021, 6, 19, 3, 14, 33), id=1406087983338430472, id_str='1406087983338430472', full_text='Ronald Rosevelt News ⚖\\nDO YOU KNOWS HOW  ?📰\\nWARNING ⚠️⛔🔬\\nThe US JUSTICE DEPARTMENT 📩📬📮⚖&amp; FBI, ...WILL EXPAND THE INVESTIGATION INTO THE US ELECTION FRAUD CASE INTO US PRESIDENT JOE BIDEN.🇺🇸 📚📃...\\n(...)\\nThe Washington post  , CNN  , BBC  , REUTERS  , AFP  , ... https://t.co/Jyr6VSd7Ur', truncated=False, display_text_range=[0, 264], entities={'hashtags': [], 'symbols': [], 'user_mentions': [], 'urls': [], 'media': [{'id': 1406087968918433795, 'id_str': '1406087968918433795', 'indices': [265, 288], 'media_url': 'http://pbs.twimg.com/media/E4NtjtZVcAMSsRV.jpg', 'media_url_https': 'https://pbs.twimg.com/media/E4NtjtZVcAMSsRV.jpg', 'url': 'https://t.co/Jyr6VSd7Ur', 'display_url': 'pic.twitter.com/Jyr6VSd7Ur', 'expanded_url': 'https://twitter.com/NguynHo29253600/status/1406087983338430472/photo/1', 'type': 'photo', 'sizes': {'small': {'w': 548, 'h': 319, 'resize': 'fit'}, 'thumb': {'w': 150, 'h': 150, 'resize': 'crop'}, 'large': {'w': 548, 'h': 319, 'resize': 'fit'}, 'medium': {'w': 548, 'h': 319, 'resize': 'fit'}}}]}, extended_entities={'media': [{'id': 1406087968918433795, 'id_str': '1406087968918433795', 'indices': [265, 288], 'media_url': 'http://pbs.twimg.com/media/E4NtjtZVcAMSsRV.jpg', 'media_url_https': 'https://pbs.twimg.com/media/E4NtjtZVcAMSsRV.jpg', 'url': 'https://t.co/Jyr6VSd7Ur', 'display_url': 'pic.twitter.com/Jyr6VSd7Ur', 'expanded_url': 'https://twitter.com/NguynHo29253600/status/1406087983338430472/photo/1', 'type': 'photo', 'sizes': {'small': {'w': 548, 'h': 319, 'resize': 'fit'}, 'thumb': {'w': 150, 'h': 150, 'resize': 'crop'}, 'large': {'w': 548, 'h': 319, 'resize': 'fit'}, 'medium': {'w': 548, 'h': 319, 'resize': 'fit'}}}, {'id': 1406087972416475140, 'id_str': '1406087972416475140', 'indices': [265, 288], 'media_url': 'http://pbs.twimg.com/media/E4Ntj6bVUAQcZyo.jpg', 'media_url_https': 'https://pbs.twimg.com/media/E4Ntj6bVUAQcZyo.jpg', 'url': 'https://t.co/Jyr6VSd7Ur', 'display_url': 'pic.twitter.com/Jyr6VSd7Ur', 'expanded_url': 'https://twitter.com/NguynHo29253600/status/1406087983338430472/photo/1', 'type': 'photo', 'sizes': {'thumb': {'w': 150, 'h': 150, 'resize': 'crop'}, 'medium': {'w': 414, 'h': 276, 'resize': 'fit'}, 'large': {'w': 414, 'h': 276, 'resize': 'fit'}, 'small': {'w': 414, 'h': 276, 'resize': 'fit'}}}, {'id': 1406087976258445313, 'id_str': '1406087976258445313', 'indices': [265, 288], 'media_url': 'http://pbs.twimg.com/media/E4NtkIvVIAEwn9Z.jpg', 'media_url_https': 'https://pbs.twimg.com/media/E4NtkIvVIAEwn9Z.jpg', 'url': 'https://t.co/Jyr6VSd7Ur', 'display_url': 'pic.twitter.com/Jyr6VSd7Ur', 'expanded_url': 'https://twitter.com/NguynHo29253600/status/1406087983338430472/photo/1', 'type': 'photo', 'sizes': {'large': {'w': 660, 'h': 371, 'resize': 'fit'}, 'thumb': {'w': 150, 'h': 150, 'resize': 'crop'}, 'medium': {'w': 660, 'h': 371, 'resize': 'fit'}, 'small': {'w': 660, 'h': 371, 'resize': 'fit'}}}, {'id': 1406087980247252994, 'id_str': '1406087980247252994', 'indices': [265, 288], 'media_url': 'http://pbs.twimg.com/media/E4NtkXmVgAIZEX7.jpg', 'media_url_https': 'https://pbs.twimg.com/media/E4NtkXmVgAIZEX7.jpg', 'url': 'https://t.co/Jyr6VSd7Ur', 'display_url': 'pic.twitter.com/Jyr6VSd7Ur', 'expanded_url': 'https://twitter.com/NguynHo29253600/status/1406087983338430472/photo/1', 'type': 'photo', 'sizes': {'large': {'w': 480, 'h': 300, 'resize': 'fit'}, 'thumb': {'w': 150, 'h': 150, 'resize': 'crop'}, 'small': {'w': 480, 'h': 300, 'resize': 'fit'}, 'medium': {'w': 480, 'h': 300, 'resize': 'fit'}}}]}, metadata={'iso_language_code': 'en', 'result_type': 'recent'}, source='Twitter for Android', source_url='http://twitter.com/download/android', in_reply_to_status_id=None, in_reply_to_status_id_str=None, in_reply_to_user_id=None, in_reply_to_user_id_str=None, in_reply_to_screen_name=None, author=User(_api=<tweepy.api.API object at 0x000001660C601D60>, _json={'id': 1398486699722756096, 'id_str': '1398486699722756096', 'name': 'Nguyên Hoang Minh Tuân', 'screen_name': 'NguynHo29253600', 'location': '', 'description': '', 'url': None, 'entities': {'description': {'urls': []}}, 'protected': False, 'followers_count': 66, 'friends_count': 426, 'listed_count': 0, 'created_at': 'Sat May 29 03:50:05 +0000 2021', 'favourites_count': 256, 'utc_offset': None, 'time_zone': None, 'geo_enabled': True, 'verified': False, 'statuses_count': 308, 'lang': None, 'contributors_enabled': False, 'is_translator': False, 'is_translation_enabled': False, 'profile_background_color': 'F5F8FA', 'profile_background_image_url': None, 'profile_background_image_url_https': None, 'profile_background_tile': False, 'profile_image_url': 'http://pbs.twimg.com/profile_images/1404502507749986307/UxrCFgyV_normal.jpg', 'profile_image_url_https': 'https://pbs.twimg.com/profile_images/1404502507749986307/UxrCFgyV_normal.jpg', 'profile_link_color': '1DA1F2', 'profile_sidebar_border_color': 'C0DEED', 'profile_sidebar_fill_color': 'DDEEF6', 'profile_text_color': '333333', 'profile_use_background_image': True, 'has_extended_profile': True, 'default_profile': True, 'default_profile_image': False, 'following': False, 'follow_request_sent': False, 'notifications': False, 'translator_type': 'none', 'withheld_in_countries': []}, id=1398486699722756096, id_str='1398486699722756096', name='Nguyên Hoang Minh Tuân', screen_name='NguynHo29253600', location='', description='', url=None, entities={'description': {'urls': []}}, protected=False, followers_count=66, friends_count=426, listed_count=0, created_at=datetime.datetime(2021, 5, 29, 3, 50, 5), favourites_count=256, utc_offset=None, time_zone=None, geo_enabled=True, verified=False, statuses_count=308, lang=None, contributors_enabled=False, is_translator=False, is_translation_enabled=False, profile_background_color='F5F8FA', profile_background_image_url=None, profile_background_image_url_https=None, profile_background_tile=False, profile_image_url='http://pbs.twimg.com/profile_images/1404502507749986307/UxrCFgyV_normal.jpg', profile_image_url_https='https://pbs.twimg.com/profile_images/1404502507749986307/UxrCFgyV_normal.jpg', profile_link_color='1DA1F2', profile_sidebar_border_color='C0DEED', profile_sidebar_fill_color='DDEEF6', profile_text_color='333333', profile_use_background_image=True, has_extended_profile=True, default_profile=True, default_profile_image=False, following=False, follow_request_sent=False, notifications=False, translator_type='none', withheld_in_countries=[]), user=User(_api=<tweepy.api.API object at 0x000001660C601D60>, _json={'id': 1398486699722756096, 'id_str': '1398486699722756096', 'name': 'Nguyên Hoang Minh Tuân', 'screen_name': 'NguynHo29253600', 'location': '', 'description': '', 'url': None, 'entities': {'description': {'urls': []}}, 'protected': False, 'followers_count': 66, 'friends_count': 426, 'listed_count': 0, 'created_at': 'Sat May 29 03:50:05 +0000 2021', 'favourites_count': 256, 'utc_offset': None, 'time_zone': None, 'geo_enabled': True, 'verified': False, 'statuses_count': 308, 'lang': None, 'contributors_enabled': False, 'is_translator': False, 'is_translation_enabled': False, 'profile_background_color': 'F5F8FA', 'profile_background_image_url': None, 'profile_background_image_url_https': None, 'profile_background_tile': False, 'profile_image_url': 'http://pbs.twimg.com/profile_images/1404502507749986307/UxrCFgyV_normal.jpg', 'profile_image_url_https': 'https://pbs.twimg.com/profile_images/1404502507749986307/UxrCFgyV_normal.jpg', 'profile_link_color': '1DA1F2', 'profile_sidebar_border_color': 'C0DEED', 'profile_sidebar_fill_color': 'DDEEF6', 'profile_text_color': '333333', 'profile_use_background_image': True, 'has_extended_profile': True, 'default_profile': True, 'default_profile_image': False, 'following': False, 'follow_request_sent': False, 'notifications': False, 'translator_type': 'none', 'withheld_in_countries': []}, id=1398486699722756096, id_str='1398486699722756096', name='Nguyên Hoang Minh Tuân', screen_name='NguynHo29253600', location='', description='', url=None, entities={'description': {'urls': []}}, protected=False, followers_count=66, friends_count=426, listed_count=0, created_at=datetime.datetime(2021, 5, 29, 3, 50, 5), favourites_count=256, utc_offset=None, time_zone=None, geo_enabled=True, verified=False, statuses_count=308, lang=None, contributors_enabled=False, is_translator=False, is_translation_enabled=False, profile_background_color='F5F8FA', profile_background_image_url=None, profile_background_image_url_https=None, profile_background_tile=False, profile_image_url='http://pbs.twimg.com/profile_images/1404502507749986307/UxrCFgyV_normal.jpg', profile_image_url_https='https://pbs.twimg.com/profile_images/1404502507749986307/UxrCFgyV_normal.jpg', profile_link_color='1DA1F2', profile_sidebar_border_color='C0DEED', profile_sidebar_fill_color='DDEEF6', profile_text_color='333333', profile_use_background_image=True, has_extended_profile=True, default_profile=True, default_profile_image=False, following=False, follow_request_sent=False, notifications=False, translator_type='none', withheld_in_countries=[]), geo=None, coordinates=None, place=None, contributors=None, is_quote_status=False, retweet_count=1, favorite_count=1, favorited=False, retweeted=False, possibly_sensitive=False, lang='en')\n",
      "=================================================\n",
      "Status(_api=<tweepy.api.API object at 0x000001660C601D60>, _json={'created_at': 'Sat Jun 19 03:04:51 +0000 2021', 'id': 1406085539846053888, 'id_str': '1406085539846053888', 'full_text': '@B52Malmet You know what they are telling the American people Joe Biden and Kamila Harris won because Democrats voted without obstruction that is why red states are making it difficult for us to vote,  so we must vote in every election not just the presidential elections.', 'truncated': False, 'display_text_range': [11, 272], 'entities': {'hashtags': [], 'symbols': [], 'user_mentions': [{'screen_name': 'B52Malmet', 'name': 'Barbara Malmet', 'id': 2876041031, 'id_str': '2876041031', 'indices': [0, 10]}], 'urls': []}, 'metadata': {'iso_language_code': 'en', 'result_type': 'recent'}, 'source': '<a href=\"http://twitter.com/download/iphone\" rel=\"nofollow\">Twitter for iPhone</a>', 'in_reply_to_status_id': 1406070253243842564, 'in_reply_to_status_id_str': '1406070253243842564', 'in_reply_to_user_id': 2876041031, 'in_reply_to_user_id_str': '2876041031', 'in_reply_to_screen_name': 'B52Malmet', 'user': {'id': 1293999840410710023, 'id_str': '1293999840410710023', 'name': 'Giovani Principato', 'screen_name': 'GiovaniPrincip1', 'location': '', 'description': 'Family man', 'url': None, 'entities': {'description': {'urls': []}}, 'protected': False, 'followers_count': 3, 'friends_count': 21, 'listed_count': 0, 'created_at': 'Thu Aug 13 19:56:33 +0000 2020', 'favourites_count': 1773, 'utc_offset': None, 'time_zone': None, 'geo_enabled': False, 'verified': False, 'statuses_count': 722, 'lang': None, 'contributors_enabled': False, 'is_translator': False, 'is_translation_enabled': False, 'profile_background_color': 'F5F8FA', 'profile_background_image_url': None, 'profile_background_image_url_https': None, 'profile_background_tile': False, 'profile_image_url': 'http://abs.twimg.com/sticky/default_profile_images/default_profile_normal.png', 'profile_image_url_https': 'https://abs.twimg.com/sticky/default_profile_images/default_profile_normal.png', 'profile_link_color': '1DA1F2', 'profile_sidebar_border_color': 'C0DEED', 'profile_sidebar_fill_color': 'DDEEF6', 'profile_text_color': '333333', 'profile_use_background_image': True, 'has_extended_profile': True, 'default_profile': True, 'default_profile_image': True, 'following': False, 'follow_request_sent': False, 'notifications': False, 'translator_type': 'none', 'withheld_in_countries': []}, 'geo': None, 'coordinates': None, 'place': None, 'contributors': None, 'is_quote_status': False, 'retweet_count': 0, 'favorite_count': 0, 'favorited': False, 'retweeted': False, 'lang': 'en'}, created_at=datetime.datetime(2021, 6, 19, 3, 4, 51), id=1406085539846053888, id_str='1406085539846053888', full_text='@B52Malmet You know what they are telling the American people Joe Biden and Kamila Harris won because Democrats voted without obstruction that is why red states are making it difficult for us to vote,  so we must vote in every election not just the presidential elections.', truncated=False, display_text_range=[11, 272], entities={'hashtags': [], 'symbols': [], 'user_mentions': [{'screen_name': 'B52Malmet', 'name': 'Barbara Malmet', 'id': 2876041031, 'id_str': '2876041031', 'indices': [0, 10]}], 'urls': []}, metadata={'iso_language_code': 'en', 'result_type': 'recent'}, source='Twitter for iPhone', source_url='http://twitter.com/download/iphone', in_reply_to_status_id=1406070253243842564, in_reply_to_status_id_str='1406070253243842564', in_reply_to_user_id=2876041031, in_reply_to_user_id_str='2876041031', in_reply_to_screen_name='B52Malmet', author=User(_api=<tweepy.api.API object at 0x000001660C601D60>, _json={'id': 1293999840410710023, 'id_str': '1293999840410710023', 'name': 'Giovani Principato', 'screen_name': 'GiovaniPrincip1', 'location': '', 'description': 'Family man', 'url': None, 'entities': {'description': {'urls': []}}, 'protected': False, 'followers_count': 3, 'friends_count': 21, 'listed_count': 0, 'created_at': 'Thu Aug 13 19:56:33 +0000 2020', 'favourites_count': 1773, 'utc_offset': None, 'time_zone': None, 'geo_enabled': False, 'verified': False, 'statuses_count': 722, 'lang': None, 'contributors_enabled': False, 'is_translator': False, 'is_translation_enabled': False, 'profile_background_color': 'F5F8FA', 'profile_background_image_url': None, 'profile_background_image_url_https': None, 'profile_background_tile': False, 'profile_image_url': 'http://abs.twimg.com/sticky/default_profile_images/default_profile_normal.png', 'profile_image_url_https': 'https://abs.twimg.com/sticky/default_profile_images/default_profile_normal.png', 'profile_link_color': '1DA1F2', 'profile_sidebar_border_color': 'C0DEED', 'profile_sidebar_fill_color': 'DDEEF6', 'profile_text_color': '333333', 'profile_use_background_image': True, 'has_extended_profile': True, 'default_profile': True, 'default_profile_image': True, 'following': False, 'follow_request_sent': False, 'notifications': False, 'translator_type': 'none', 'withheld_in_countries': []}, id=1293999840410710023, id_str='1293999840410710023', name='Giovani Principato', screen_name='GiovaniPrincip1', location='', description='Family man', url=None, entities={'description': {'urls': []}}, protected=False, followers_count=3, friends_count=21, listed_count=0, created_at=datetime.datetime(2020, 8, 13, 19, 56, 33), favourites_count=1773, utc_offset=None, time_zone=None, geo_enabled=False, verified=False, statuses_count=722, lang=None, contributors_enabled=False, is_translator=False, is_translation_enabled=False, profile_background_color='F5F8FA', profile_background_image_url=None, profile_background_image_url_https=None, profile_background_tile=False, profile_image_url='http://abs.twimg.com/sticky/default_profile_images/default_profile_normal.png', profile_image_url_https='https://abs.twimg.com/sticky/default_profile_images/default_profile_normal.png', profile_link_color='1DA1F2', profile_sidebar_border_color='C0DEED', profile_sidebar_fill_color='DDEEF6', profile_text_color='333333', profile_use_background_image=True, has_extended_profile=True, default_profile=True, default_profile_image=True, following=False, follow_request_sent=False, notifications=False, translator_type='none', withheld_in_countries=[]), user=User(_api=<tweepy.api.API object at 0x000001660C601D60>, _json={'id': 1293999840410710023, 'id_str': '1293999840410710023', 'name': 'Giovani Principato', 'screen_name': 'GiovaniPrincip1', 'location': '', 'description': 'Family man', 'url': None, 'entities': {'description': {'urls': []}}, 'protected': False, 'followers_count': 3, 'friends_count': 21, 'listed_count': 0, 'created_at': 'Thu Aug 13 19:56:33 +0000 2020', 'favourites_count': 1773, 'utc_offset': None, 'time_zone': None, 'geo_enabled': False, 'verified': False, 'statuses_count': 722, 'lang': None, 'contributors_enabled': False, 'is_translator': False, 'is_translation_enabled': False, 'profile_background_color': 'F5F8FA', 'profile_background_image_url': None, 'profile_background_image_url_https': None, 'profile_background_tile': False, 'profile_image_url': 'http://abs.twimg.com/sticky/default_profile_images/default_profile_normal.png', 'profile_image_url_https': 'https://abs.twimg.com/sticky/default_profile_images/default_profile_normal.png', 'profile_link_color': '1DA1F2', 'profile_sidebar_border_color': 'C0DEED', 'profile_sidebar_fill_color': 'DDEEF6', 'profile_text_color': '333333', 'profile_use_background_image': True, 'has_extended_profile': True, 'default_profile': True, 'default_profile_image': True, 'following': False, 'follow_request_sent': False, 'notifications': False, 'translator_type': 'none', 'withheld_in_countries': []}, id=1293999840410710023, id_str='1293999840410710023', name='Giovani Principato', screen_name='GiovaniPrincip1', location='', description='Family man', url=None, entities={'description': {'urls': []}}, protected=False, followers_count=3, friends_count=21, listed_count=0, created_at=datetime.datetime(2020, 8, 13, 19, 56, 33), favourites_count=1773, utc_offset=None, time_zone=None, geo_enabled=False, verified=False, statuses_count=722, lang=None, contributors_enabled=False, is_translator=False, is_translation_enabled=False, profile_background_color='F5F8FA', profile_background_image_url=None, profile_background_image_url_https=None, profile_background_tile=False, profile_image_url='http://abs.twimg.com/sticky/default_profile_images/default_profile_normal.png', profile_image_url_https='https://abs.twimg.com/sticky/default_profile_images/default_profile_normal.png', profile_link_color='1DA1F2', profile_sidebar_border_color='C0DEED', profile_sidebar_fill_color='DDEEF6', profile_text_color='333333', profile_use_background_image=True, has_extended_profile=True, default_profile=True, default_profile_image=True, following=False, follow_request_sent=False, notifications=False, translator_type='none', withheld_in_countries=[]), geo=None, coordinates=None, place=None, contributors=None, is_quote_status=False, retweet_count=0, favorite_count=0, favorited=False, retweeted=False, lang='en')\n",
      "=================================================\n",
      "Status(_api=<tweepy.api.API object at 0x000001660C601D60>, _json={'created_at': 'Fri Jun 18 23:00:14 +0000 2021', 'id': 1406023983175241729, 'id_str': '1406023983175241729', 'full_text': 'It is a debate that  has reentered the public spotlight in the United States since the election of President Joe Biden, a Catholic who publicly supports legislation which allows abortion\\nhttps://t.co/ZHkjZOyS7U', 'truncated': False, 'display_text_range': [0, 210], 'entities': {'hashtags': [], 'symbols': [], 'user_mentions': [], 'urls': [{'url': 'https://t.co/ZHkjZOyS7U', 'expanded_url': 'https://www.romereports.com/en/2021/06/18/unity-and-the-eucharist-central-at-meeting-of-us-bishops-conference/', 'display_url': 'romereports.com/en/2021/06/18/…', 'indices': [187, 210]}]}, 'metadata': {'iso_language_code': 'en', 'result_type': 'recent'}, 'source': '<a href=\"https://www.hootsuite.com\" rel=\"nofollow\">Hootsuite Inc.</a>', 'in_reply_to_status_id': None, 'in_reply_to_status_id_str': None, 'in_reply_to_user_id': None, 'in_reply_to_user_id_str': None, 'in_reply_to_screen_name': None, 'user': {'id': 117101683, 'id_str': '117101683', 'name': 'ROME REPORTS', 'screen_name': 'romereports', 'location': 'Rome, Italy', 'description': 'International news agency, specialized in covering news on the Pope (@Pontifex), the Vatican and Rome.\\nFollow us also on Facebook and Instagram.', 'url': 'https://t.co/Osqn24iKZ1', 'entities': {'url': {'urls': [{'url': 'https://t.co/Osqn24iKZ1', 'expanded_url': 'http://www.romereports.com/en', 'display_url': 'romereports.com/en', 'indices': [0, 23]}]}, 'description': {'urls': []}}, 'protected': False, 'followers_count': 47727, 'friends_count': 1098, 'listed_count': 820, 'created_at': 'Wed Feb 24 14:55:53 +0000 2010', 'favourites_count': 1497, 'utc_offset': None, 'time_zone': None, 'geo_enabled': True, 'verified': False, 'statuses_count': 21013, 'lang': None, 'contributors_enabled': False, 'is_translator': False, 'is_translation_enabled': False, 'profile_background_color': '131516', 'profile_background_image_url': 'http://abs.twimg.com/images/themes/theme14/bg.gif', 'profile_background_image_url_https': 'https://abs.twimg.com/images/themes/theme14/bg.gif', 'profile_background_tile': True, 'profile_image_url': 'http://pbs.twimg.com/profile_images/608938845581791232/G4n2hdEf_normal.jpg', 'profile_image_url_https': 'https://pbs.twimg.com/profile_images/608938845581791232/G4n2hdEf_normal.jpg', 'profile_banner_url': 'https://pbs.twimg.com/profile_banners/117101683/1540461216', 'profile_link_color': 'EB0E0E', 'profile_sidebar_border_color': 'FFFFFF', 'profile_sidebar_fill_color': 'EFEFEF', 'profile_text_color': '333333', 'profile_use_background_image': True, 'has_extended_profile': False, 'default_profile': False, 'default_profile_image': False, 'following': False, 'follow_request_sent': False, 'notifications': False, 'translator_type': 'none', 'withheld_in_countries': []}, 'geo': None, 'coordinates': None, 'place': None, 'contributors': None, 'is_quote_status': False, 'retweet_count': 1, 'favorite_count': 2, 'favorited': False, 'retweeted': False, 'possibly_sensitive': False, 'lang': 'en'}, created_at=datetime.datetime(2021, 6, 18, 23, 0, 14), id=1406023983175241729, id_str='1406023983175241729', full_text='It is a debate that  has reentered the public spotlight in the United States since the election of President Joe Biden, a Catholic who publicly supports legislation which allows abortion\\nhttps://t.co/ZHkjZOyS7U', truncated=False, display_text_range=[0, 210], entities={'hashtags': [], 'symbols': [], 'user_mentions': [], 'urls': [{'url': 'https://t.co/ZHkjZOyS7U', 'expanded_url': 'https://www.romereports.com/en/2021/06/18/unity-and-the-eucharist-central-at-meeting-of-us-bishops-conference/', 'display_url': 'romereports.com/en/2021/06/18/…', 'indices': [187, 210]}]}, metadata={'iso_language_code': 'en', 'result_type': 'recent'}, source='Hootsuite Inc.', source_url='https://www.hootsuite.com', in_reply_to_status_id=None, in_reply_to_status_id_str=None, in_reply_to_user_id=None, in_reply_to_user_id_str=None, in_reply_to_screen_name=None, author=User(_api=<tweepy.api.API object at 0x000001660C601D60>, _json={'id': 117101683, 'id_str': '117101683', 'name': 'ROME REPORTS', 'screen_name': 'romereports', 'location': 'Rome, Italy', 'description': 'International news agency, specialized in covering news on the Pope (@Pontifex), the Vatican and Rome.\\nFollow us also on Facebook and Instagram.', 'url': 'https://t.co/Osqn24iKZ1', 'entities': {'url': {'urls': [{'url': 'https://t.co/Osqn24iKZ1', 'expanded_url': 'http://www.romereports.com/en', 'display_url': 'romereports.com/en', 'indices': [0, 23]}]}, 'description': {'urls': []}}, 'protected': False, 'followers_count': 47727, 'friends_count': 1098, 'listed_count': 820, 'created_at': 'Wed Feb 24 14:55:53 +0000 2010', 'favourites_count': 1497, 'utc_offset': None, 'time_zone': None, 'geo_enabled': True, 'verified': False, 'statuses_count': 21013, 'lang': None, 'contributors_enabled': False, 'is_translator': False, 'is_translation_enabled': False, 'profile_background_color': '131516', 'profile_background_image_url': 'http://abs.twimg.com/images/themes/theme14/bg.gif', 'profile_background_image_url_https': 'https://abs.twimg.com/images/themes/theme14/bg.gif', 'profile_background_tile': True, 'profile_image_url': 'http://pbs.twimg.com/profile_images/608938845581791232/G4n2hdEf_normal.jpg', 'profile_image_url_https': 'https://pbs.twimg.com/profile_images/608938845581791232/G4n2hdEf_normal.jpg', 'profile_banner_url': 'https://pbs.twimg.com/profile_banners/117101683/1540461216', 'profile_link_color': 'EB0E0E', 'profile_sidebar_border_color': 'FFFFFF', 'profile_sidebar_fill_color': 'EFEFEF', 'profile_text_color': '333333', 'profile_use_background_image': True, 'has_extended_profile': False, 'default_profile': False, 'default_profile_image': False, 'following': False, 'follow_request_sent': False, 'notifications': False, 'translator_type': 'none', 'withheld_in_countries': []}, id=117101683, id_str='117101683', name='ROME REPORTS', screen_name='romereports', location='Rome, Italy', description='International news agency, specialized in covering news on the Pope (@Pontifex), the Vatican and Rome.\\nFollow us also on Facebook and Instagram.', url='https://t.co/Osqn24iKZ1', entities={'url': {'urls': [{'url': 'https://t.co/Osqn24iKZ1', 'expanded_url': 'http://www.romereports.com/en', 'display_url': 'romereports.com/en', 'indices': [0, 23]}]}, 'description': {'urls': []}}, protected=False, followers_count=47727, friends_count=1098, listed_count=820, created_at=datetime.datetime(2010, 2, 24, 14, 55, 53), favourites_count=1497, utc_offset=None, time_zone=None, geo_enabled=True, verified=False, statuses_count=21013, lang=None, contributors_enabled=False, is_translator=False, is_translation_enabled=False, profile_background_color='131516', profile_background_image_url='http://abs.twimg.com/images/themes/theme14/bg.gif', profile_background_image_url_https='https://abs.twimg.com/images/themes/theme14/bg.gif', profile_background_tile=True, profile_image_url='http://pbs.twimg.com/profile_images/608938845581791232/G4n2hdEf_normal.jpg', profile_image_url_https='https://pbs.twimg.com/profile_images/608938845581791232/G4n2hdEf_normal.jpg', profile_banner_url='https://pbs.twimg.com/profile_banners/117101683/1540461216', profile_link_color='EB0E0E', profile_sidebar_border_color='FFFFFF', profile_sidebar_fill_color='EFEFEF', profile_text_color='333333', profile_use_background_image=True, has_extended_profile=False, default_profile=False, default_profile_image=False, following=False, follow_request_sent=False, notifications=False, translator_type='none', withheld_in_countries=[]), user=User(_api=<tweepy.api.API object at 0x000001660C601D60>, _json={'id': 117101683, 'id_str': '117101683', 'name': 'ROME REPORTS', 'screen_name': 'romereports', 'location': 'Rome, Italy', 'description': 'International news agency, specialized in covering news on the Pope (@Pontifex), the Vatican and Rome.\\nFollow us also on Facebook and Instagram.', 'url': 'https://t.co/Osqn24iKZ1', 'entities': {'url': {'urls': [{'url': 'https://t.co/Osqn24iKZ1', 'expanded_url': 'http://www.romereports.com/en', 'display_url': 'romereports.com/en', 'indices': [0, 23]}]}, 'description': {'urls': []}}, 'protected': False, 'followers_count': 47727, 'friends_count': 1098, 'listed_count': 820, 'created_at': 'Wed Feb 24 14:55:53 +0000 2010', 'favourites_count': 1497, 'utc_offset': None, 'time_zone': None, 'geo_enabled': True, 'verified': False, 'statuses_count': 21013, 'lang': None, 'contributors_enabled': False, 'is_translator': False, 'is_translation_enabled': False, 'profile_background_color': '131516', 'profile_background_image_url': 'http://abs.twimg.com/images/themes/theme14/bg.gif', 'profile_background_image_url_https': 'https://abs.twimg.com/images/themes/theme14/bg.gif', 'profile_background_tile': True, 'profile_image_url': 'http://pbs.twimg.com/profile_images/608938845581791232/G4n2hdEf_normal.jpg', 'profile_image_url_https': 'https://pbs.twimg.com/profile_images/608938845581791232/G4n2hdEf_normal.jpg', 'profile_banner_url': 'https://pbs.twimg.com/profile_banners/117101683/1540461216', 'profile_link_color': 'EB0E0E', 'profile_sidebar_border_color': 'FFFFFF', 'profile_sidebar_fill_color': 'EFEFEF', 'profile_text_color': '333333', 'profile_use_background_image': True, 'has_extended_profile': False, 'default_profile': False, 'default_profile_image': False, 'following': False, 'follow_request_sent': False, 'notifications': False, 'translator_type': 'none', 'withheld_in_countries': []}, id=117101683, id_str='117101683', name='ROME REPORTS', screen_name='romereports', location='Rome, Italy', description='International news agency, specialized in covering news on the Pope (@Pontifex), the Vatican and Rome.\\nFollow us also on Facebook and Instagram.', url='https://t.co/Osqn24iKZ1', entities={'url': {'urls': [{'url': 'https://t.co/Osqn24iKZ1', 'expanded_url': 'http://www.romereports.com/en', 'display_url': 'romereports.com/en', 'indices': [0, 23]}]}, 'description': {'urls': []}}, protected=False, followers_count=47727, friends_count=1098, listed_count=820, created_at=datetime.datetime(2010, 2, 24, 14, 55, 53), favourites_count=1497, utc_offset=None, time_zone=None, geo_enabled=True, verified=False, statuses_count=21013, lang=None, contributors_enabled=False, is_translator=False, is_translation_enabled=False, profile_background_color='131516', profile_background_image_url='http://abs.twimg.com/images/themes/theme14/bg.gif', profile_background_image_url_https='https://abs.twimg.com/images/themes/theme14/bg.gif', profile_background_tile=True, profile_image_url='http://pbs.twimg.com/profile_images/608938845581791232/G4n2hdEf_normal.jpg', profile_image_url_https='https://pbs.twimg.com/profile_images/608938845581791232/G4n2hdEf_normal.jpg', profile_banner_url='https://pbs.twimg.com/profile_banners/117101683/1540461216', profile_link_color='EB0E0E', profile_sidebar_border_color='FFFFFF', profile_sidebar_fill_color='EFEFEF', profile_text_color='333333', profile_use_background_image=True, has_extended_profile=False, default_profile=False, default_profile_image=False, following=False, follow_request_sent=False, notifications=False, translator_type='none', withheld_in_countries=[]), geo=None, coordinates=None, place=None, contributors=None, is_quote_status=False, retweet_count=1, favorite_count=2, favorited=False, retweeted=False, possibly_sensitive=False, lang='en')\n",
      "=================================================\n",
      "Status(_api=<tweepy.api.API object at 0x000001660C601D60>, _json={'created_at': 'Fri Jun 18 22:02:14 +0000 2021', 'id': 1406009384438743046, 'id_str': '1406009384438743046', 'full_text': '@rkinseth @mikepompeo @SenateGOP What does it say about Republicans, Rick, that we were warned our country is under relentless attack by Russian intelligence &amp; military active measures..\\n\\n..&amp; Republicans chose to help Russia weaken &amp; divide the USA?\\n\\nFBI Director Wray warned us last year.\\nhttps://t.co/m16W5aKeY5', 'truncated': False, 'display_text_range': [33, 325], 'entities': {'hashtags': [], 'symbols': [], 'user_mentions': [{'screen_name': 'rkinseth', 'name': 'Rick Kinseth', 'id': 1429245848, 'id_str': '1429245848', 'indices': [0, 9]}, {'screen_name': 'mikepompeo', 'name': 'Mike Pompeo', 'id': 1163992520252153857, 'id_str': '1163992520252153857', 'indices': [10, 21]}, {'screen_name': 'SenateGOP', 'name': 'Senate Republicans', 'id': 14344823, 'id_str': '14344823', 'indices': [22, 32]}], 'urls': [{'url': 'https://t.co/m16W5aKeY5', 'expanded_url': 'https://www.msn.com/en-us/news/politics/fbi-director-christopher-wray-says-russia-is-meddling-in-the-2020-election-to-denigrate-joe-biden/ar-BB199xcz?ocid=uxbndlbing', 'display_url': 'msn.com/en-us/news/pol…', 'indices': [302, 325]}]}, 'metadata': {'iso_language_code': 'en', 'result_type': 'recent'}, 'source': '<a href=\"http://twitter.com/#!/download/ipad\" rel=\"nofollow\">Twitter for iPad</a>', 'in_reply_to_status_id': 1406008406918455299, 'in_reply_to_status_id_str': '1406008406918455299', 'in_reply_to_user_id': 1429245848, 'in_reply_to_user_id_str': '1429245848', 'in_reply_to_screen_name': 'rkinseth', 'user': {'id': 1260440701, 'id_str': '1260440701', 'name': 'Happy Chichester', 'screen_name': 'HappyChichester', 'location': 'Columbus, Ohio', 'description': 'Singer, songwriter, multi-instrumental', 'url': 'https://t.co/6EznA88ph7', 'entities': {'url': {'urls': [{'url': 'https://t.co/6EznA88ph7', 'expanded_url': 'https://happychichester.bandcamp.com/music', 'display_url': 'happychichester.bandcamp.com/music', 'indices': [0, 23]}]}, 'description': {'urls': []}}, 'protected': False, 'followers_count': 5088, 'friends_count': 4880, 'listed_count': 106, 'created_at': 'Mon Mar 11 21:16:14 +0000 2013', 'favourites_count': 413550, 'utc_offset': None, 'time_zone': None, 'geo_enabled': False, 'verified': False, 'statuses_count': 131074, 'lang': None, 'contributors_enabled': False, 'is_translator': False, 'is_translation_enabled': False, 'profile_background_color': 'C0DEED', 'profile_background_image_url': 'http://abs.twimg.com/images/themes/theme1/bg.png', 'profile_background_image_url_https': 'https://abs.twimg.com/images/themes/theme1/bg.png', 'profile_background_tile': False, 'profile_image_url': 'http://pbs.twimg.com/profile_images/1254629281566789637/cpvCJlOo_normal.jpg', 'profile_image_url_https': 'https://pbs.twimg.com/profile_images/1254629281566789637/cpvCJlOo_normal.jpg', 'profile_banner_url': 'https://pbs.twimg.com/profile_banners/1260440701/1534748307', 'profile_link_color': '1DA1F2', 'profile_sidebar_border_color': 'C0DEED', 'profile_sidebar_fill_color': 'DDEEF6', 'profile_text_color': '333333', 'profile_use_background_image': True, 'has_extended_profile': False, 'default_profile': True, 'default_profile_image': False, 'following': False, 'follow_request_sent': False, 'notifications': False, 'translator_type': 'none', 'withheld_in_countries': []}, 'geo': None, 'coordinates': None, 'place': None, 'contributors': None, 'is_quote_status': False, 'retweet_count': 0, 'favorite_count': 0, 'favorited': False, 'retweeted': False, 'possibly_sensitive': False, 'lang': 'en'}, created_at=datetime.datetime(2021, 6, 18, 22, 2, 14), id=1406009384438743046, id_str='1406009384438743046', full_text='@rkinseth @mikepompeo @SenateGOP What does it say about Republicans, Rick, that we were warned our country is under relentless attack by Russian intelligence &amp; military active measures..\\n\\n..&amp; Republicans chose to help Russia weaken &amp; divide the USA?\\n\\nFBI Director Wray warned us last year.\\nhttps://t.co/m16W5aKeY5', truncated=False, display_text_range=[33, 325], entities={'hashtags': [], 'symbols': [], 'user_mentions': [{'screen_name': 'rkinseth', 'name': 'Rick Kinseth', 'id': 1429245848, 'id_str': '1429245848', 'indices': [0, 9]}, {'screen_name': 'mikepompeo', 'name': 'Mike Pompeo', 'id': 1163992520252153857, 'id_str': '1163992520252153857', 'indices': [10, 21]}, {'screen_name': 'SenateGOP', 'name': 'Senate Republicans', 'id': 14344823, 'id_str': '14344823', 'indices': [22, 32]}], 'urls': [{'url': 'https://t.co/m16W5aKeY5', 'expanded_url': 'https://www.msn.com/en-us/news/politics/fbi-director-christopher-wray-says-russia-is-meddling-in-the-2020-election-to-denigrate-joe-biden/ar-BB199xcz?ocid=uxbndlbing', 'display_url': 'msn.com/en-us/news/pol…', 'indices': [302, 325]}]}, metadata={'iso_language_code': 'en', 'result_type': 'recent'}, source='Twitter for iPad', source_url='http://twitter.com/#!/download/ipad', in_reply_to_status_id=1406008406918455299, in_reply_to_status_id_str='1406008406918455299', in_reply_to_user_id=1429245848, in_reply_to_user_id_str='1429245848', in_reply_to_screen_name='rkinseth', author=User(_api=<tweepy.api.API object at 0x000001660C601D60>, _json={'id': 1260440701, 'id_str': '1260440701', 'name': 'Happy Chichester', 'screen_name': 'HappyChichester', 'location': 'Columbus, Ohio', 'description': 'Singer, songwriter, multi-instrumental', 'url': 'https://t.co/6EznA88ph7', 'entities': {'url': {'urls': [{'url': 'https://t.co/6EznA88ph7', 'expanded_url': 'https://happychichester.bandcamp.com/music', 'display_url': 'happychichester.bandcamp.com/music', 'indices': [0, 23]}]}, 'description': {'urls': []}}, 'protected': False, 'followers_count': 5088, 'friends_count': 4880, 'listed_count': 106, 'created_at': 'Mon Mar 11 21:16:14 +0000 2013', 'favourites_count': 413550, 'utc_offset': None, 'time_zone': None, 'geo_enabled': False, 'verified': False, 'statuses_count': 131074, 'lang': None, 'contributors_enabled': False, 'is_translator': False, 'is_translation_enabled': False, 'profile_background_color': 'C0DEED', 'profile_background_image_url': 'http://abs.twimg.com/images/themes/theme1/bg.png', 'profile_background_image_url_https': 'https://abs.twimg.com/images/themes/theme1/bg.png', 'profile_background_tile': False, 'profile_image_url': 'http://pbs.twimg.com/profile_images/1254629281566789637/cpvCJlOo_normal.jpg', 'profile_image_url_https': 'https://pbs.twimg.com/profile_images/1254629281566789637/cpvCJlOo_normal.jpg', 'profile_banner_url': 'https://pbs.twimg.com/profile_banners/1260440701/1534748307', 'profile_link_color': '1DA1F2', 'profile_sidebar_border_color': 'C0DEED', 'profile_sidebar_fill_color': 'DDEEF6', 'profile_text_color': '333333', 'profile_use_background_image': True, 'has_extended_profile': False, 'default_profile': True, 'default_profile_image': False, 'following': False, 'follow_request_sent': False, 'notifications': False, 'translator_type': 'none', 'withheld_in_countries': []}, id=1260440701, id_str='1260440701', name='Happy Chichester', screen_name='HappyChichester', location='Columbus, Ohio', description='Singer, songwriter, multi-instrumental', url='https://t.co/6EznA88ph7', entities={'url': {'urls': [{'url': 'https://t.co/6EznA88ph7', 'expanded_url': 'https://happychichester.bandcamp.com/music', 'display_url': 'happychichester.bandcamp.com/music', 'indices': [0, 23]}]}, 'description': {'urls': []}}, protected=False, followers_count=5088, friends_count=4880, listed_count=106, created_at=datetime.datetime(2013, 3, 11, 21, 16, 14), favourites_count=413550, utc_offset=None, time_zone=None, geo_enabled=False, verified=False, statuses_count=131074, lang=None, contributors_enabled=False, is_translator=False, is_translation_enabled=False, profile_background_color='C0DEED', profile_background_image_url='http://abs.twimg.com/images/themes/theme1/bg.png', profile_background_image_url_https='https://abs.twimg.com/images/themes/theme1/bg.png', profile_background_tile=False, profile_image_url='http://pbs.twimg.com/profile_images/1254629281566789637/cpvCJlOo_normal.jpg', profile_image_url_https='https://pbs.twimg.com/profile_images/1254629281566789637/cpvCJlOo_normal.jpg', profile_banner_url='https://pbs.twimg.com/profile_banners/1260440701/1534748307', profile_link_color='1DA1F2', profile_sidebar_border_color='C0DEED', profile_sidebar_fill_color='DDEEF6', profile_text_color='333333', profile_use_background_image=True, has_extended_profile=False, default_profile=True, default_profile_image=False, following=False, follow_request_sent=False, notifications=False, translator_type='none', withheld_in_countries=[]), user=User(_api=<tweepy.api.API object at 0x000001660C601D60>, _json={'id': 1260440701, 'id_str': '1260440701', 'name': 'Happy Chichester', 'screen_name': 'HappyChichester', 'location': 'Columbus, Ohio', 'description': 'Singer, songwriter, multi-instrumental', 'url': 'https://t.co/6EznA88ph7', 'entities': {'url': {'urls': [{'url': 'https://t.co/6EznA88ph7', 'expanded_url': 'https://happychichester.bandcamp.com/music', 'display_url': 'happychichester.bandcamp.com/music', 'indices': [0, 23]}]}, 'description': {'urls': []}}, 'protected': False, 'followers_count': 5088, 'friends_count': 4880, 'listed_count': 106, 'created_at': 'Mon Mar 11 21:16:14 +0000 2013', 'favourites_count': 413550, 'utc_offset': None, 'time_zone': None, 'geo_enabled': False, 'verified': False, 'statuses_count': 131074, 'lang': None, 'contributors_enabled': False, 'is_translator': False, 'is_translation_enabled': False, 'profile_background_color': 'C0DEED', 'profile_background_image_url': 'http://abs.twimg.com/images/themes/theme1/bg.png', 'profile_background_image_url_https': 'https://abs.twimg.com/images/themes/theme1/bg.png', 'profile_background_tile': False, 'profile_image_url': 'http://pbs.twimg.com/profile_images/1254629281566789637/cpvCJlOo_normal.jpg', 'profile_image_url_https': 'https://pbs.twimg.com/profile_images/1254629281566789637/cpvCJlOo_normal.jpg', 'profile_banner_url': 'https://pbs.twimg.com/profile_banners/1260440701/1534748307', 'profile_link_color': '1DA1F2', 'profile_sidebar_border_color': 'C0DEED', 'profile_sidebar_fill_color': 'DDEEF6', 'profile_text_color': '333333', 'profile_use_background_image': True, 'has_extended_profile': False, 'default_profile': True, 'default_profile_image': False, 'following': False, 'follow_request_sent': False, 'notifications': False, 'translator_type': 'none', 'withheld_in_countries': []}, id=1260440701, id_str='1260440701', name='Happy Chichester', screen_name='HappyChichester', location='Columbus, Ohio', description='Singer, songwriter, multi-instrumental', url='https://t.co/6EznA88ph7', entities={'url': {'urls': [{'url': 'https://t.co/6EznA88ph7', 'expanded_url': 'https://happychichester.bandcamp.com/music', 'display_url': 'happychichester.bandcamp.com/music', 'indices': [0, 23]}]}, 'description': {'urls': []}}, protected=False, followers_count=5088, friends_count=4880, listed_count=106, created_at=datetime.datetime(2013, 3, 11, 21, 16, 14), favourites_count=413550, utc_offset=None, time_zone=None, geo_enabled=False, verified=False, statuses_count=131074, lang=None, contributors_enabled=False, is_translator=False, is_translation_enabled=False, profile_background_color='C0DEED', profile_background_image_url='http://abs.twimg.com/images/themes/theme1/bg.png', profile_background_image_url_https='https://abs.twimg.com/images/themes/theme1/bg.png', profile_background_tile=False, profile_image_url='http://pbs.twimg.com/profile_images/1254629281566789637/cpvCJlOo_normal.jpg', profile_image_url_https='https://pbs.twimg.com/profile_images/1254629281566789637/cpvCJlOo_normal.jpg', profile_banner_url='https://pbs.twimg.com/profile_banners/1260440701/1534748307', profile_link_color='1DA1F2', profile_sidebar_border_color='C0DEED', profile_sidebar_fill_color='DDEEF6', profile_text_color='333333', profile_use_background_image=True, has_extended_profile=False, default_profile=True, default_profile_image=False, following=False, follow_request_sent=False, notifications=False, translator_type='none', withheld_in_countries=[]), geo=None, coordinates=None, place=None, contributors=None, is_quote_status=False, retweet_count=0, favorite_count=0, favorited=False, retweeted=False, possibly_sensitive=False, lang='en')\n",
      "=================================================\n",
      "Status(_api=<tweepy.api.API object at 0x000001660C601D60>, _json={'created_at': 'Fri Jun 18 21:28:59 +0000 2021', 'id': 1406001019092353024, 'id_str': '1406001019092353024', 'full_text': 'Who is Ebrahim Raisi? Joe Biden Urged Not to Recognize Iran Election Favorite https://t.co/XNw1zf2Mls', 'truncated': False, 'display_text_range': [0, 101], 'entities': {'hashtags': [], 'symbols': [], 'user_mentions': [], 'urls': [{'url': 'https://t.co/XNw1zf2Mls', 'expanded_url': 'http://a.msn.com/01/en-us/AALbOvh?ocid=st', 'display_url': 'a.msn.com/01/en-us/AALbO…', 'indices': [78, 101]}]}, 'metadata': {'iso_language_code': 'en', 'result_type': 'recent'}, 'source': '<a href=\"https://mobile.twitter.com\" rel=\"nofollow\">Twitter Web App</a>', 'in_reply_to_status_id': None, 'in_reply_to_status_id_str': None, 'in_reply_to_user_id': None, 'in_reply_to_user_id_str': None, 'in_reply_to_screen_name': None, 'user': {'id': 1074480044209250304, 'id_str': '1074480044209250304', 'name': 'Payame Solh', 'screen_name': 'sootsolh', 'location': '', 'description': '', 'url': None, 'entities': {'description': {'urls': []}}, 'protected': False, 'followers_count': 369, 'friends_count': 496, 'listed_count': 2, 'created_at': 'Mon Dec 17 01:43:00 +0000 2018', 'favourites_count': 602, 'utc_offset': None, 'time_zone': None, 'geo_enabled': False, 'verified': False, 'statuses_count': 58009, 'lang': None, 'contributors_enabled': False, 'is_translator': False, 'is_translation_enabled': False, 'profile_background_color': 'F5F8FA', 'profile_background_image_url': None, 'profile_background_image_url_https': None, 'profile_background_tile': False, 'profile_image_url': 'http://pbs.twimg.com/profile_images/1074485967635898368/4nu6IDPf_normal.jpg', 'profile_image_url_https': 'https://pbs.twimg.com/profile_images/1074485967635898368/4nu6IDPf_normal.jpg', 'profile_banner_url': 'https://pbs.twimg.com/profile_banners/1074480044209250304/1545012510', 'profile_link_color': '1DA1F2', 'profile_sidebar_border_color': 'C0DEED', 'profile_sidebar_fill_color': 'DDEEF6', 'profile_text_color': '333333', 'profile_use_background_image': True, 'has_extended_profile': False, 'default_profile': True, 'default_profile_image': False, 'following': False, 'follow_request_sent': False, 'notifications': False, 'translator_type': 'none', 'withheld_in_countries': []}, 'geo': None, 'coordinates': None, 'place': None, 'contributors': None, 'is_quote_status': False, 'retweet_count': 0, 'favorite_count': 1, 'favorited': False, 'retweeted': False, 'possibly_sensitive': False, 'lang': 'en'}, created_at=datetime.datetime(2021, 6, 18, 21, 28, 59), id=1406001019092353024, id_str='1406001019092353024', full_text='Who is Ebrahim Raisi? Joe Biden Urged Not to Recognize Iran Election Favorite https://t.co/XNw1zf2Mls', truncated=False, display_text_range=[0, 101], entities={'hashtags': [], 'symbols': [], 'user_mentions': [], 'urls': [{'url': 'https://t.co/XNw1zf2Mls', 'expanded_url': 'http://a.msn.com/01/en-us/AALbOvh?ocid=st', 'display_url': 'a.msn.com/01/en-us/AALbO…', 'indices': [78, 101]}]}, metadata={'iso_language_code': 'en', 'result_type': 'recent'}, source='Twitter Web App', source_url='https://mobile.twitter.com', in_reply_to_status_id=None, in_reply_to_status_id_str=None, in_reply_to_user_id=None, in_reply_to_user_id_str=None, in_reply_to_screen_name=None, author=User(_api=<tweepy.api.API object at 0x000001660C601D60>, _json={'id': 1074480044209250304, 'id_str': '1074480044209250304', 'name': 'Payame Solh', 'screen_name': 'sootsolh', 'location': '', 'description': '', 'url': None, 'entities': {'description': {'urls': []}}, 'protected': False, 'followers_count': 369, 'friends_count': 496, 'listed_count': 2, 'created_at': 'Mon Dec 17 01:43:00 +0000 2018', 'favourites_count': 602, 'utc_offset': None, 'time_zone': None, 'geo_enabled': False, 'verified': False, 'statuses_count': 58009, 'lang': None, 'contributors_enabled': False, 'is_translator': False, 'is_translation_enabled': False, 'profile_background_color': 'F5F8FA', 'profile_background_image_url': None, 'profile_background_image_url_https': None, 'profile_background_tile': False, 'profile_image_url': 'http://pbs.twimg.com/profile_images/1074485967635898368/4nu6IDPf_normal.jpg', 'profile_image_url_https': 'https://pbs.twimg.com/profile_images/1074485967635898368/4nu6IDPf_normal.jpg', 'profile_banner_url': 'https://pbs.twimg.com/profile_banners/1074480044209250304/1545012510', 'profile_link_color': '1DA1F2', 'profile_sidebar_border_color': 'C0DEED', 'profile_sidebar_fill_color': 'DDEEF6', 'profile_text_color': '333333', 'profile_use_background_image': True, 'has_extended_profile': False, 'default_profile': True, 'default_profile_image': False, 'following': False, 'follow_request_sent': False, 'notifications': False, 'translator_type': 'none', 'withheld_in_countries': []}, id=1074480044209250304, id_str='1074480044209250304', name='Payame Solh', screen_name='sootsolh', location='', description='', url=None, entities={'description': {'urls': []}}, protected=False, followers_count=369, friends_count=496, listed_count=2, created_at=datetime.datetime(2018, 12, 17, 1, 43), favourites_count=602, utc_offset=None, time_zone=None, geo_enabled=False, verified=False, statuses_count=58009, lang=None, contributors_enabled=False, is_translator=False, is_translation_enabled=False, profile_background_color='F5F8FA', profile_background_image_url=None, profile_background_image_url_https=None, profile_background_tile=False, profile_image_url='http://pbs.twimg.com/profile_images/1074485967635898368/4nu6IDPf_normal.jpg', profile_image_url_https='https://pbs.twimg.com/profile_images/1074485967635898368/4nu6IDPf_normal.jpg', profile_banner_url='https://pbs.twimg.com/profile_banners/1074480044209250304/1545012510', profile_link_color='1DA1F2', profile_sidebar_border_color='C0DEED', profile_sidebar_fill_color='DDEEF6', profile_text_color='333333', profile_use_background_image=True, has_extended_profile=False, default_profile=True, default_profile_image=False, following=False, follow_request_sent=False, notifications=False, translator_type='none', withheld_in_countries=[]), user=User(_api=<tweepy.api.API object at 0x000001660C601D60>, _json={'id': 1074480044209250304, 'id_str': '1074480044209250304', 'name': 'Payame Solh', 'screen_name': 'sootsolh', 'location': '', 'description': '', 'url': None, 'entities': {'description': {'urls': []}}, 'protected': False, 'followers_count': 369, 'friends_count': 496, 'listed_count': 2, 'created_at': 'Mon Dec 17 01:43:00 +0000 2018', 'favourites_count': 602, 'utc_offset': None, 'time_zone': None, 'geo_enabled': False, 'verified': False, 'statuses_count': 58009, 'lang': None, 'contributors_enabled': False, 'is_translator': False, 'is_translation_enabled': False, 'profile_background_color': 'F5F8FA', 'profile_background_image_url': None, 'profile_background_image_url_https': None, 'profile_background_tile': False, 'profile_image_url': 'http://pbs.twimg.com/profile_images/1074485967635898368/4nu6IDPf_normal.jpg', 'profile_image_url_https': 'https://pbs.twimg.com/profile_images/1074485967635898368/4nu6IDPf_normal.jpg', 'profile_banner_url': 'https://pbs.twimg.com/profile_banners/1074480044209250304/1545012510', 'profile_link_color': '1DA1F2', 'profile_sidebar_border_color': 'C0DEED', 'profile_sidebar_fill_color': 'DDEEF6', 'profile_text_color': '333333', 'profile_use_background_image': True, 'has_extended_profile': False, 'default_profile': True, 'default_profile_image': False, 'following': False, 'follow_request_sent': False, 'notifications': False, 'translator_type': 'none', 'withheld_in_countries': []}, id=1074480044209250304, id_str='1074480044209250304', name='Payame Solh', screen_name='sootsolh', location='', description='', url=None, entities={'description': {'urls': []}}, protected=False, followers_count=369, friends_count=496, listed_count=2, created_at=datetime.datetime(2018, 12, 17, 1, 43), favourites_count=602, utc_offset=None, time_zone=None, geo_enabled=False, verified=False, statuses_count=58009, lang=None, contributors_enabled=False, is_translator=False, is_translation_enabled=False, profile_background_color='F5F8FA', profile_background_image_url=None, profile_background_image_url_https=None, profile_background_tile=False, profile_image_url='http://pbs.twimg.com/profile_images/1074485967635898368/4nu6IDPf_normal.jpg', profile_image_url_https='https://pbs.twimg.com/profile_images/1074485967635898368/4nu6IDPf_normal.jpg', profile_banner_url='https://pbs.twimg.com/profile_banners/1074480044209250304/1545012510', profile_link_color='1DA1F2', profile_sidebar_border_color='C0DEED', profile_sidebar_fill_color='DDEEF6', profile_text_color='333333', profile_use_background_image=True, has_extended_profile=False, default_profile=True, default_profile_image=False, following=False, follow_request_sent=False, notifications=False, translator_type='none', withheld_in_countries=[]), geo=None, coordinates=None, place=None, contributors=None, is_quote_status=False, retweet_count=0, favorite_count=1, favorited=False, retweeted=False, possibly_sensitive=False, lang='en')\n",
      "=================================================\n",
      "Status(_api=<tweepy.api.API object at 0x000001660C601D60>, _json={'created_at': 'Fri Jun 18 21:12:52 +0000 2021', 'id': 1405996962676097045, 'id_str': '1405996962676097045', 'full_text': 'Joe Biden really won an election in the US by giving out this solution to war in Afghanistan but unfortunately, sleepy joe forgot to check this with Pakistan...', 'truncated': False, 'display_text_range': [0, 160], 'entities': {'hashtags': [], 'symbols': [], 'user_mentions': [], 'urls': []}, 'metadata': {'iso_language_code': 'en', 'result_type': 'recent'}, 'source': '<a href=\"https://mobile.twitter.com\" rel=\"nofollow\">Twitter Web App</a>', 'in_reply_to_status_id': 1405996245135527937, 'in_reply_to_status_id_str': '1405996245135527937', 'in_reply_to_user_id': 1217940315241357312, 'in_reply_to_user_id_str': '1217940315241357312', 'in_reply_to_screen_name': '_su_gibi', 'user': {'id': 1217940315241357312, 'id_str': '1217940315241357312', 'name': 'میر ذوشأن محمد خان', 'screen_name': '_su_gibi', 'location': 'Dayaar-e-Gair', 'description': 'A simple man from a small village. Botany and tea enthusiast.', 'url': None, 'entities': {'description': {'urls': []}}, 'protected': False, 'followers_count': 494, 'friends_count': 34, 'listed_count': 1, 'created_at': 'Thu Jan 16 22:43:06 +0000 2020', 'favourites_count': 238, 'utc_offset': None, 'time_zone': None, 'geo_enabled': False, 'verified': False, 'statuses_count': 23929, 'lang': None, 'contributors_enabled': False, 'is_translator': False, 'is_translation_enabled': False, 'profile_background_color': 'F5F8FA', 'profile_background_image_url': None, 'profile_background_image_url_https': None, 'profile_background_tile': False, 'profile_image_url': 'http://pbs.twimg.com/profile_images/1341884868045787138/e79cVSdP_normal.jpg', 'profile_image_url_https': 'https://pbs.twimg.com/profile_images/1341884868045787138/e79cVSdP_normal.jpg', 'profile_banner_url': 'https://pbs.twimg.com/profile_banners/1217940315241357312/1589909991', 'profile_link_color': '1DA1F2', 'profile_sidebar_border_color': 'C0DEED', 'profile_sidebar_fill_color': 'DDEEF6', 'profile_text_color': '333333', 'profile_use_background_image': True, 'has_extended_profile': False, 'default_profile': True, 'default_profile_image': False, 'following': False, 'follow_request_sent': False, 'notifications': False, 'translator_type': 'none', 'withheld_in_countries': []}, 'geo': None, 'coordinates': None, 'place': None, 'contributors': None, 'is_quote_status': False, 'retweet_count': 3, 'favorite_count': 13, 'favorited': False, 'retweeted': False, 'lang': 'en'}, created_at=datetime.datetime(2021, 6, 18, 21, 12, 52), id=1405996962676097045, id_str='1405996962676097045', full_text='Joe Biden really won an election in the US by giving out this solution to war in Afghanistan but unfortunately, sleepy joe forgot to check this with Pakistan...', truncated=False, display_text_range=[0, 160], entities={'hashtags': [], 'symbols': [], 'user_mentions': [], 'urls': []}, metadata={'iso_language_code': 'en', 'result_type': 'recent'}, source='Twitter Web App', source_url='https://mobile.twitter.com', in_reply_to_status_id=1405996245135527937, in_reply_to_status_id_str='1405996245135527937', in_reply_to_user_id=1217940315241357312, in_reply_to_user_id_str='1217940315241357312', in_reply_to_screen_name='_su_gibi', author=User(_api=<tweepy.api.API object at 0x000001660C601D60>, _json={'id': 1217940315241357312, 'id_str': '1217940315241357312', 'name': 'میر ذوشأن محمد خان', 'screen_name': '_su_gibi', 'location': 'Dayaar-e-Gair', 'description': 'A simple man from a small village. Botany and tea enthusiast.', 'url': None, 'entities': {'description': {'urls': []}}, 'protected': False, 'followers_count': 494, 'friends_count': 34, 'listed_count': 1, 'created_at': 'Thu Jan 16 22:43:06 +0000 2020', 'favourites_count': 238, 'utc_offset': None, 'time_zone': None, 'geo_enabled': False, 'verified': False, 'statuses_count': 23929, 'lang': None, 'contributors_enabled': False, 'is_translator': False, 'is_translation_enabled': False, 'profile_background_color': 'F5F8FA', 'profile_background_image_url': None, 'profile_background_image_url_https': None, 'profile_background_tile': False, 'profile_image_url': 'http://pbs.twimg.com/profile_images/1341884868045787138/e79cVSdP_normal.jpg', 'profile_image_url_https': 'https://pbs.twimg.com/profile_images/1341884868045787138/e79cVSdP_normal.jpg', 'profile_banner_url': 'https://pbs.twimg.com/profile_banners/1217940315241357312/1589909991', 'profile_link_color': '1DA1F2', 'profile_sidebar_border_color': 'C0DEED', 'profile_sidebar_fill_color': 'DDEEF6', 'profile_text_color': '333333', 'profile_use_background_image': True, 'has_extended_profile': False, 'default_profile': True, 'default_profile_image': False, 'following': False, 'follow_request_sent': False, 'notifications': False, 'translator_type': 'none', 'withheld_in_countries': []}, id=1217940315241357312, id_str='1217940315241357312', name='میر ذوشأن محمد خان', screen_name='_su_gibi', location='Dayaar-e-Gair', description='A simple man from a small village. Botany and tea enthusiast.', url=None, entities={'description': {'urls': []}}, protected=False, followers_count=494, friends_count=34, listed_count=1, created_at=datetime.datetime(2020, 1, 16, 22, 43, 6), favourites_count=238, utc_offset=None, time_zone=None, geo_enabled=False, verified=False, statuses_count=23929, lang=None, contributors_enabled=False, is_translator=False, is_translation_enabled=False, profile_background_color='F5F8FA', profile_background_image_url=None, profile_background_image_url_https=None, profile_background_tile=False, profile_image_url='http://pbs.twimg.com/profile_images/1341884868045787138/e79cVSdP_normal.jpg', profile_image_url_https='https://pbs.twimg.com/profile_images/1341884868045787138/e79cVSdP_normal.jpg', profile_banner_url='https://pbs.twimg.com/profile_banners/1217940315241357312/1589909991', profile_link_color='1DA1F2', profile_sidebar_border_color='C0DEED', profile_sidebar_fill_color='DDEEF6', profile_text_color='333333', profile_use_background_image=True, has_extended_profile=False, default_profile=True, default_profile_image=False, following=False, follow_request_sent=False, notifications=False, translator_type='none', withheld_in_countries=[]), user=User(_api=<tweepy.api.API object at 0x000001660C601D60>, _json={'id': 1217940315241357312, 'id_str': '1217940315241357312', 'name': 'میر ذوشأن محمد خان', 'screen_name': '_su_gibi', 'location': 'Dayaar-e-Gair', 'description': 'A simple man from a small village. Botany and tea enthusiast.', 'url': None, 'entities': {'description': {'urls': []}}, 'protected': False, 'followers_count': 494, 'friends_count': 34, 'listed_count': 1, 'created_at': 'Thu Jan 16 22:43:06 +0000 2020', 'favourites_count': 238, 'utc_offset': None, 'time_zone': None, 'geo_enabled': False, 'verified': False, 'statuses_count': 23929, 'lang': None, 'contributors_enabled': False, 'is_translator': False, 'is_translation_enabled': False, 'profile_background_color': 'F5F8FA', 'profile_background_image_url': None, 'profile_background_image_url_https': None, 'profile_background_tile': False, 'profile_image_url': 'http://pbs.twimg.com/profile_images/1341884868045787138/e79cVSdP_normal.jpg', 'profile_image_url_https': 'https://pbs.twimg.com/profile_images/1341884868045787138/e79cVSdP_normal.jpg', 'profile_banner_url': 'https://pbs.twimg.com/profile_banners/1217940315241357312/1589909991', 'profile_link_color': '1DA1F2', 'profile_sidebar_border_color': 'C0DEED', 'profile_sidebar_fill_color': 'DDEEF6', 'profile_text_color': '333333', 'profile_use_background_image': True, 'has_extended_profile': False, 'default_profile': True, 'default_profile_image': False, 'following': False, 'follow_request_sent': False, 'notifications': False, 'translator_type': 'none', 'withheld_in_countries': []}, id=1217940315241357312, id_str='1217940315241357312', name='میر ذوشأن محمد خان', screen_name='_su_gibi', location='Dayaar-e-Gair', description='A simple man from a small village. Botany and tea enthusiast.', url=None, entities={'description': {'urls': []}}, protected=False, followers_count=494, friends_count=34, listed_count=1, created_at=datetime.datetime(2020, 1, 16, 22, 43, 6), favourites_count=238, utc_offset=None, time_zone=None, geo_enabled=False, verified=False, statuses_count=23929, lang=None, contributors_enabled=False, is_translator=False, is_translation_enabled=False, profile_background_color='F5F8FA', profile_background_image_url=None, profile_background_image_url_https=None, profile_background_tile=False, profile_image_url='http://pbs.twimg.com/profile_images/1341884868045787138/e79cVSdP_normal.jpg', profile_image_url_https='https://pbs.twimg.com/profile_images/1341884868045787138/e79cVSdP_normal.jpg', profile_banner_url='https://pbs.twimg.com/profile_banners/1217940315241357312/1589909991', profile_link_color='1DA1F2', profile_sidebar_border_color='C0DEED', profile_sidebar_fill_color='DDEEF6', profile_text_color='333333', profile_use_background_image=True, has_extended_profile=False, default_profile=True, default_profile_image=False, following=False, follow_request_sent=False, notifications=False, translator_type='none', withheld_in_countries=[]), geo=None, coordinates=None, place=None, contributors=None, is_quote_status=False, retweet_count=3, favorite_count=13, favorited=False, retweeted=False, lang='en')\n",
      "=================================================\n",
      "Status(_api=<tweepy.api.API object at 0x000001660C601D60>, _json={'created_at': 'Fri Jun 18 20:47:51 +0000 2021', 'id': 1405990666220539911, 'id_str': '1405990666220539911', 'full_text': 'Convention circuit of delusion gives forum for election lies https://t.co/RUXTOu92eQ. Reeeeetarded', 'truncated': False, 'display_text_range': [0, 98], 'entities': {'hashtags': [], 'symbols': [], 'user_mentions': [], 'urls': [{'url': 'https://t.co/RUXTOu92eQ', 'expanded_url': 'https://www.independent.co.uk/news/world/americas/us-politics/convention-circuit-of-delusion-gives-forum-for-election-lies-donald-trump-joe-biden-mike-lindell-wisconsin-michael-flynn-b1868281.html', 'display_url': 'independent.co.uk/news/world/ame…', 'indices': [61, 84]}]}, 'metadata': {'iso_language_code': 'en', 'result_type': 'recent'}, 'source': '<a href=\"http://twitter.com/download/android\" rel=\"nofollow\">Twitter for Android</a>', 'in_reply_to_status_id': None, 'in_reply_to_status_id_str': None, 'in_reply_to_user_id': None, 'in_reply_to_user_id_str': None, 'in_reply_to_screen_name': None, 'user': {'id': 901036205151793152, 'id_str': '901036205151793152', 'name': 'Jazzy Catmanliving', 'screen_name': 'JCatmanliving', 'location': '', 'description': '', 'url': None, 'entities': {'description': {'urls': []}}, 'protected': False, 'followers_count': 0, 'friends_count': 63, 'listed_count': 0, 'created_at': 'Fri Aug 25 10:59:06 +0000 2017', 'favourites_count': 1, 'utc_offset': None, 'time_zone': None, 'geo_enabled': False, 'verified': False, 'statuses_count': 593, 'lang': None, 'contributors_enabled': False, 'is_translator': False, 'is_translation_enabled': False, 'profile_background_color': 'F5F8FA', 'profile_background_image_url': None, 'profile_background_image_url_https': None, 'profile_background_tile': False, 'profile_image_url': 'http://abs.twimg.com/sticky/default_profile_images/default_profile_normal.png', 'profile_image_url_https': 'https://abs.twimg.com/sticky/default_profile_images/default_profile_normal.png', 'profile_link_color': '1DA1F2', 'profile_sidebar_border_color': 'C0DEED', 'profile_sidebar_fill_color': 'DDEEF6', 'profile_text_color': '333333', 'profile_use_background_image': True, 'has_extended_profile': False, 'default_profile': True, 'default_profile_image': True, 'following': False, 'follow_request_sent': False, 'notifications': False, 'translator_type': 'none', 'withheld_in_countries': []}, 'geo': None, 'coordinates': None, 'place': None, 'contributors': None, 'is_quote_status': False, 'retweet_count': 0, 'favorite_count': 0, 'favorited': False, 'retweeted': False, 'possibly_sensitive': False, 'lang': 'en'}, created_at=datetime.datetime(2021, 6, 18, 20, 47, 51), id=1405990666220539911, id_str='1405990666220539911', full_text='Convention circuit of delusion gives forum for election lies https://t.co/RUXTOu92eQ. Reeeeetarded', truncated=False, display_text_range=[0, 98], entities={'hashtags': [], 'symbols': [], 'user_mentions': [], 'urls': [{'url': 'https://t.co/RUXTOu92eQ', 'expanded_url': 'https://www.independent.co.uk/news/world/americas/us-politics/convention-circuit-of-delusion-gives-forum-for-election-lies-donald-trump-joe-biden-mike-lindell-wisconsin-michael-flynn-b1868281.html', 'display_url': 'independent.co.uk/news/world/ame…', 'indices': [61, 84]}]}, metadata={'iso_language_code': 'en', 'result_type': 'recent'}, source='Twitter for Android', source_url='http://twitter.com/download/android', in_reply_to_status_id=None, in_reply_to_status_id_str=None, in_reply_to_user_id=None, in_reply_to_user_id_str=None, in_reply_to_screen_name=None, author=User(_api=<tweepy.api.API object at 0x000001660C601D60>, _json={'id': 901036205151793152, 'id_str': '901036205151793152', 'name': 'Jazzy Catmanliving', 'screen_name': 'JCatmanliving', 'location': '', 'description': '', 'url': None, 'entities': {'description': {'urls': []}}, 'protected': False, 'followers_count': 0, 'friends_count': 63, 'listed_count': 0, 'created_at': 'Fri Aug 25 10:59:06 +0000 2017', 'favourites_count': 1, 'utc_offset': None, 'time_zone': None, 'geo_enabled': False, 'verified': False, 'statuses_count': 593, 'lang': None, 'contributors_enabled': False, 'is_translator': False, 'is_translation_enabled': False, 'profile_background_color': 'F5F8FA', 'profile_background_image_url': None, 'profile_background_image_url_https': None, 'profile_background_tile': False, 'profile_image_url': 'http://abs.twimg.com/sticky/default_profile_images/default_profile_normal.png', 'profile_image_url_https': 'https://abs.twimg.com/sticky/default_profile_images/default_profile_normal.png', 'profile_link_color': '1DA1F2', 'profile_sidebar_border_color': 'C0DEED', 'profile_sidebar_fill_color': 'DDEEF6', 'profile_text_color': '333333', 'profile_use_background_image': True, 'has_extended_profile': False, 'default_profile': True, 'default_profile_image': True, 'following': False, 'follow_request_sent': False, 'notifications': False, 'translator_type': 'none', 'withheld_in_countries': []}, id=901036205151793152, id_str='901036205151793152', name='Jazzy Catmanliving', screen_name='JCatmanliving', location='', description='', url=None, entities={'description': {'urls': []}}, protected=False, followers_count=0, friends_count=63, listed_count=0, created_at=datetime.datetime(2017, 8, 25, 10, 59, 6), favourites_count=1, utc_offset=None, time_zone=None, geo_enabled=False, verified=False, statuses_count=593, lang=None, contributors_enabled=False, is_translator=False, is_translation_enabled=False, profile_background_color='F5F8FA', profile_background_image_url=None, profile_background_image_url_https=None, profile_background_tile=False, profile_image_url='http://abs.twimg.com/sticky/default_profile_images/default_profile_normal.png', profile_image_url_https='https://abs.twimg.com/sticky/default_profile_images/default_profile_normal.png', profile_link_color='1DA1F2', profile_sidebar_border_color='C0DEED', profile_sidebar_fill_color='DDEEF6', profile_text_color='333333', profile_use_background_image=True, has_extended_profile=False, default_profile=True, default_profile_image=True, following=False, follow_request_sent=False, notifications=False, translator_type='none', withheld_in_countries=[]), user=User(_api=<tweepy.api.API object at 0x000001660C601D60>, _json={'id': 901036205151793152, 'id_str': '901036205151793152', 'name': 'Jazzy Catmanliving', 'screen_name': 'JCatmanliving', 'location': '', 'description': '', 'url': None, 'entities': {'description': {'urls': []}}, 'protected': False, 'followers_count': 0, 'friends_count': 63, 'listed_count': 0, 'created_at': 'Fri Aug 25 10:59:06 +0000 2017', 'favourites_count': 1, 'utc_offset': None, 'time_zone': None, 'geo_enabled': False, 'verified': False, 'statuses_count': 593, 'lang': None, 'contributors_enabled': False, 'is_translator': False, 'is_translation_enabled': False, 'profile_background_color': 'F5F8FA', 'profile_background_image_url': None, 'profile_background_image_url_https': None, 'profile_background_tile': False, 'profile_image_url': 'http://abs.twimg.com/sticky/default_profile_images/default_profile_normal.png', 'profile_image_url_https': 'https://abs.twimg.com/sticky/default_profile_images/default_profile_normal.png', 'profile_link_color': '1DA1F2', 'profile_sidebar_border_color': 'C0DEED', 'profile_sidebar_fill_color': 'DDEEF6', 'profile_text_color': '333333', 'profile_use_background_image': True, 'has_extended_profile': False, 'default_profile': True, 'default_profile_image': True, 'following': False, 'follow_request_sent': False, 'notifications': False, 'translator_type': 'none', 'withheld_in_countries': []}, id=901036205151793152, id_str='901036205151793152', name='Jazzy Catmanliving', screen_name='JCatmanliving', location='', description='', url=None, entities={'description': {'urls': []}}, protected=False, followers_count=0, friends_count=63, listed_count=0, created_at=datetime.datetime(2017, 8, 25, 10, 59, 6), favourites_count=1, utc_offset=None, time_zone=None, geo_enabled=False, verified=False, statuses_count=593, lang=None, contributors_enabled=False, is_translator=False, is_translation_enabled=False, profile_background_color='F5F8FA', profile_background_image_url=None, profile_background_image_url_https=None, profile_background_tile=False, profile_image_url='http://abs.twimg.com/sticky/default_profile_images/default_profile_normal.png', profile_image_url_https='https://abs.twimg.com/sticky/default_profile_images/default_profile_normal.png', profile_link_color='1DA1F2', profile_sidebar_border_color='C0DEED', profile_sidebar_fill_color='DDEEF6', profile_text_color='333333', profile_use_background_image=True, has_extended_profile=False, default_profile=True, default_profile_image=True, following=False, follow_request_sent=False, notifications=False, translator_type='none', withheld_in_countries=[]), geo=None, coordinates=None, place=None, contributors=None, is_quote_status=False, retweet_count=0, favorite_count=0, favorited=False, retweeted=False, possibly_sensitive=False, lang='en')\n",
      "=================================================\n",
      "Status(_api=<tweepy.api.API object at 0x000001660C601D60>, _json={'created_at': 'Fri Jun 18 20:45:59 +0000 2021', 'id': 1405990195804188672, 'id_str': '1405990195804188672', 'full_text': 'Convention circuit of delusion gives forum for election lies https://t.co/RUXTOu92eQ. Retarded', 'truncated': False, 'display_text_range': [0, 94], 'entities': {'hashtags': [], 'symbols': [], 'user_mentions': [], 'urls': [{'url': 'https://t.co/RUXTOu92eQ', 'expanded_url': 'https://www.independent.co.uk/news/world/americas/us-politics/convention-circuit-of-delusion-gives-forum-for-election-lies-donald-trump-joe-biden-mike-lindell-wisconsin-michael-flynn-b1868281.html', 'display_url': 'independent.co.uk/news/world/ame…', 'indices': [61, 84]}]}, 'metadata': {'iso_language_code': 'en', 'result_type': 'recent'}, 'source': '<a href=\"http://twitter.com/download/android\" rel=\"nofollow\">Twitter for Android</a>', 'in_reply_to_status_id': None, 'in_reply_to_status_id_str': None, 'in_reply_to_user_id': None, 'in_reply_to_user_id_str': None, 'in_reply_to_screen_name': None, 'user': {'id': 901036205151793152, 'id_str': '901036205151793152', 'name': 'Jazzy Catmanliving', 'screen_name': 'JCatmanliving', 'location': '', 'description': '', 'url': None, 'entities': {'description': {'urls': []}}, 'protected': False, 'followers_count': 0, 'friends_count': 63, 'listed_count': 0, 'created_at': 'Fri Aug 25 10:59:06 +0000 2017', 'favourites_count': 1, 'utc_offset': None, 'time_zone': None, 'geo_enabled': False, 'verified': False, 'statuses_count': 593, 'lang': None, 'contributors_enabled': False, 'is_translator': False, 'is_translation_enabled': False, 'profile_background_color': 'F5F8FA', 'profile_background_image_url': None, 'profile_background_image_url_https': None, 'profile_background_tile': False, 'profile_image_url': 'http://abs.twimg.com/sticky/default_profile_images/default_profile_normal.png', 'profile_image_url_https': 'https://abs.twimg.com/sticky/default_profile_images/default_profile_normal.png', 'profile_link_color': '1DA1F2', 'profile_sidebar_border_color': 'C0DEED', 'profile_sidebar_fill_color': 'DDEEF6', 'profile_text_color': '333333', 'profile_use_background_image': True, 'has_extended_profile': False, 'default_profile': True, 'default_profile_image': True, 'following': False, 'follow_request_sent': False, 'notifications': False, 'translator_type': 'none', 'withheld_in_countries': []}, 'geo': None, 'coordinates': None, 'place': None, 'contributors': None, 'is_quote_status': False, 'retweet_count': 0, 'favorite_count': 0, 'favorited': False, 'retweeted': False, 'possibly_sensitive': False, 'lang': 'en'}, created_at=datetime.datetime(2021, 6, 18, 20, 45, 59), id=1405990195804188672, id_str='1405990195804188672', full_text='Convention circuit of delusion gives forum for election lies https://t.co/RUXTOu92eQ. Retarded', truncated=False, display_text_range=[0, 94], entities={'hashtags': [], 'symbols': [], 'user_mentions': [], 'urls': [{'url': 'https://t.co/RUXTOu92eQ', 'expanded_url': 'https://www.independent.co.uk/news/world/americas/us-politics/convention-circuit-of-delusion-gives-forum-for-election-lies-donald-trump-joe-biden-mike-lindell-wisconsin-michael-flynn-b1868281.html', 'display_url': 'independent.co.uk/news/world/ame…', 'indices': [61, 84]}]}, metadata={'iso_language_code': 'en', 'result_type': 'recent'}, source='Twitter for Android', source_url='http://twitter.com/download/android', in_reply_to_status_id=None, in_reply_to_status_id_str=None, in_reply_to_user_id=None, in_reply_to_user_id_str=None, in_reply_to_screen_name=None, author=User(_api=<tweepy.api.API object at 0x000001660C601D60>, _json={'id': 901036205151793152, 'id_str': '901036205151793152', 'name': 'Jazzy Catmanliving', 'screen_name': 'JCatmanliving', 'location': '', 'description': '', 'url': None, 'entities': {'description': {'urls': []}}, 'protected': False, 'followers_count': 0, 'friends_count': 63, 'listed_count': 0, 'created_at': 'Fri Aug 25 10:59:06 +0000 2017', 'favourites_count': 1, 'utc_offset': None, 'time_zone': None, 'geo_enabled': False, 'verified': False, 'statuses_count': 593, 'lang': None, 'contributors_enabled': False, 'is_translator': False, 'is_translation_enabled': False, 'profile_background_color': 'F5F8FA', 'profile_background_image_url': None, 'profile_background_image_url_https': None, 'profile_background_tile': False, 'profile_image_url': 'http://abs.twimg.com/sticky/default_profile_images/default_profile_normal.png', 'profile_image_url_https': 'https://abs.twimg.com/sticky/default_profile_images/default_profile_normal.png', 'profile_link_color': '1DA1F2', 'profile_sidebar_border_color': 'C0DEED', 'profile_sidebar_fill_color': 'DDEEF6', 'profile_text_color': '333333', 'profile_use_background_image': True, 'has_extended_profile': False, 'default_profile': True, 'default_profile_image': True, 'following': False, 'follow_request_sent': False, 'notifications': False, 'translator_type': 'none', 'withheld_in_countries': []}, id=901036205151793152, id_str='901036205151793152', name='Jazzy Catmanliving', screen_name='JCatmanliving', location='', description='', url=None, entities={'description': {'urls': []}}, protected=False, followers_count=0, friends_count=63, listed_count=0, created_at=datetime.datetime(2017, 8, 25, 10, 59, 6), favourites_count=1, utc_offset=None, time_zone=None, geo_enabled=False, verified=False, statuses_count=593, lang=None, contributors_enabled=False, is_translator=False, is_translation_enabled=False, profile_background_color='F5F8FA', profile_background_image_url=None, profile_background_image_url_https=None, profile_background_tile=False, profile_image_url='http://abs.twimg.com/sticky/default_profile_images/default_profile_normal.png', profile_image_url_https='https://abs.twimg.com/sticky/default_profile_images/default_profile_normal.png', profile_link_color='1DA1F2', profile_sidebar_border_color='C0DEED', profile_sidebar_fill_color='DDEEF6', profile_text_color='333333', profile_use_background_image=True, has_extended_profile=False, default_profile=True, default_profile_image=True, following=False, follow_request_sent=False, notifications=False, translator_type='none', withheld_in_countries=[]), user=User(_api=<tweepy.api.API object at 0x000001660C601D60>, _json={'id': 901036205151793152, 'id_str': '901036205151793152', 'name': 'Jazzy Catmanliving', 'screen_name': 'JCatmanliving', 'location': '', 'description': '', 'url': None, 'entities': {'description': {'urls': []}}, 'protected': False, 'followers_count': 0, 'friends_count': 63, 'listed_count': 0, 'created_at': 'Fri Aug 25 10:59:06 +0000 2017', 'favourites_count': 1, 'utc_offset': None, 'time_zone': None, 'geo_enabled': False, 'verified': False, 'statuses_count': 593, 'lang': None, 'contributors_enabled': False, 'is_translator': False, 'is_translation_enabled': False, 'profile_background_color': 'F5F8FA', 'profile_background_image_url': None, 'profile_background_image_url_https': None, 'profile_background_tile': False, 'profile_image_url': 'http://abs.twimg.com/sticky/default_profile_images/default_profile_normal.png', 'profile_image_url_https': 'https://abs.twimg.com/sticky/default_profile_images/default_profile_normal.png', 'profile_link_color': '1DA1F2', 'profile_sidebar_border_color': 'C0DEED', 'profile_sidebar_fill_color': 'DDEEF6', 'profile_text_color': '333333', 'profile_use_background_image': True, 'has_extended_profile': False, 'default_profile': True, 'default_profile_image': True, 'following': False, 'follow_request_sent': False, 'notifications': False, 'translator_type': 'none', 'withheld_in_countries': []}, id=901036205151793152, id_str='901036205151793152', name='Jazzy Catmanliving', screen_name='JCatmanliving', location='', description='', url=None, entities={'description': {'urls': []}}, protected=False, followers_count=0, friends_count=63, listed_count=0, created_at=datetime.datetime(2017, 8, 25, 10, 59, 6), favourites_count=1, utc_offset=None, time_zone=None, geo_enabled=False, verified=False, statuses_count=593, lang=None, contributors_enabled=False, is_translator=False, is_translation_enabled=False, profile_background_color='F5F8FA', profile_background_image_url=None, profile_background_image_url_https=None, profile_background_tile=False, profile_image_url='http://abs.twimg.com/sticky/default_profile_images/default_profile_normal.png', profile_image_url_https='https://abs.twimg.com/sticky/default_profile_images/default_profile_normal.png', profile_link_color='1DA1F2', profile_sidebar_border_color='C0DEED', profile_sidebar_fill_color='DDEEF6', profile_text_color='333333', profile_use_background_image=True, has_extended_profile=False, default_profile=True, default_profile_image=True, following=False, follow_request_sent=False, notifications=False, translator_type='none', withheld_in_countries=[]), geo=None, coordinates=None, place=None, contributors=None, is_quote_status=False, retweet_count=0, favorite_count=0, favorited=False, retweeted=False, possibly_sensitive=False, lang='en')\n",
      "=================================================\n"
     ]
    }
   ],
   "source": [
    "# Lets provide the query which I need to search\n",
    "\n",
    "query = \"US election Joe Biden\"\n",
    "\n",
    "# Fetch tweets\n",
    "\n",
    "Tweets = api.search(query, count=10, lang= 'en', exclude= 'retweets', tweet_mode= 'extended')\n",
    "\n",
    "for tweet in Tweets:\n",
    "    print(tweet)\n",
    "    print(\"=================================================\")"
   ]
  },
  {
   "cell_type": "markdown",
   "metadata": {},
   "source": [
    "# Getting the Tweets and some of its related Attributes"
   ]
  },
  {
   "cell_type": "code",
   "execution_count": 6,
   "metadata": {},
   "outputs": [
    {
     "data": {
      "text/html": [
       "<div>\n",
       "<style scoped>\n",
       "    .dataframe tbody tr th:only-of-type {\n",
       "        vertical-align: middle;\n",
       "    }\n",
       "\n",
       "    .dataframe tbody tr th {\n",
       "        vertical-align: top;\n",
       "    }\n",
       "\n",
       "    .dataframe thead th {\n",
       "        text-align: right;\n",
       "    }\n",
       "</style>\n",
       "<table border=\"1\" class=\"dataframe\">\n",
       "  <thead>\n",
       "    <tr style=\"text-align: right;\">\n",
       "      <th></th>\n",
       "      <th>Tweets</th>\n",
       "      <th>User</th>\n",
       "      <th>User_statuses_count</th>\n",
       "      <th>user_followers</th>\n",
       "      <th>User_location</th>\n",
       "      <th>User_verified</th>\n",
       "      <th>fav_count</th>\n",
       "      <th>rt_count</th>\n",
       "      <th>tweet_date</th>\n",
       "    </tr>\n",
       "  </thead>\n",
       "  <tbody>\n",
       "  </tbody>\n",
       "</table>\n",
       "</div>"
      ],
      "text/plain": [
       "Empty DataFrame\n",
       "Columns: [Tweets, User, User_statuses_count, user_followers, User_location, User_verified, fav_count, rt_count, tweet_date]\n",
       "Index: []"
      ]
     },
     "execution_count": 6,
     "metadata": {},
     "output_type": "execute_result"
    }
   ],
   "source": [
    "df = pd.DataFrame(columns=[\n",
    "    'Tweets', 'User', 'User_statuses_count',\n",
    "    'user_followers', 'User_location', 'User_verified',\n",
    "    'fav_count', 'rt_count', 'tweet_date'\n",
    "])\n",
    "df"
   ]
  },
  {
   "cell_type": "code",
   "execution_count": 7,
   "metadata": {},
   "outputs": [],
   "source": [
    "def stream(data, file_name):\n",
    "    i=0\n",
    "    for tweet in tweepy.Cursor(api.search, q=data, count=100, lang='en').items():\n",
    "        print(i, end='\\r')\n",
    "        df.loc[i, 'Tweets'] = tweet.text\n",
    "        df.loc[i, 'User'] = tweet.user.name\n",
    "        df.loc[i, 'User_statuses_count'] = tweet.user.statuses_count\n",
    "        df.loc[i, 'user_followers'] = tweet.user.followers_count\n",
    "        df.loc[i, 'User_location'] = tweet.user.location\n",
    "        df.loc[i, 'User_verified'] = tweet.user.verified\n",
    "        df.loc[i, 'fav_count'] = tweet.favorite_count\n",
    "        df.loc[i, 'rt_count'] = tweet.retweet_count\n",
    "        df.loc[i, 'tweet_date'] = tweet.created_at\n",
    "        df.to_excel('{}.xlsx'.format(file_name))\n",
    "        i = i+1\n",
    "        if i == 1000:\n",
    "            break\n",
    "        else:\n",
    "            pass"
   ]
  },
  {
   "cell_type": "code",
   "execution_count": 8,
   "metadata": {
    "scrolled": true
   },
   "outputs": [
    {
     "name": "stdout",
     "output_type": "stream",
     "text": [
      "999\r"
     ]
    }
   ],
   "source": [
    "stream(data=[\"US election Joe Biden\"], file_name='my_tweets')"
   ]
  },
  {
   "cell_type": "code",
   "execution_count": 9,
   "metadata": {},
   "outputs": [
    {
     "data": {
      "text/html": [
       "<div>\n",
       "<style scoped>\n",
       "    .dataframe tbody tr th:only-of-type {\n",
       "        vertical-align: middle;\n",
       "    }\n",
       "\n",
       "    .dataframe tbody tr th {\n",
       "        vertical-align: top;\n",
       "    }\n",
       "\n",
       "    .dataframe thead th {\n",
       "        text-align: right;\n",
       "    }\n",
       "</style>\n",
       "<table border=\"1\" class=\"dataframe\">\n",
       "  <thead>\n",
       "    <tr style=\"text-align: right;\">\n",
       "      <th></th>\n",
       "      <th>Tweets</th>\n",
       "      <th>User</th>\n",
       "      <th>User_statuses_count</th>\n",
       "      <th>user_followers</th>\n",
       "      <th>User_location</th>\n",
       "      <th>User_verified</th>\n",
       "      <th>fav_count</th>\n",
       "      <th>rt_count</th>\n",
       "      <th>tweet_date</th>\n",
       "    </tr>\n",
       "  </thead>\n",
       "  <tbody>\n",
       "    <tr>\n",
       "      <th>0</th>\n",
       "      <td>RT @RYP__: TrumptyDumpty moves into phase ? of...</td>\n",
       "      <td>Willa A Bell</td>\n",
       "      <td>56576</td>\n",
       "      <td>208</td>\n",
       "      <td></td>\n",
       "      <td>False</td>\n",
       "      <td>0</td>\n",
       "      <td>13</td>\n",
       "      <td>2021-06-19 07:11:08</td>\n",
       "    </tr>\n",
       "    <tr>\n",
       "      <th>1</th>\n",
       "      <td>RT @_su_gibi: Joe Biden really won an election...</td>\n",
       "      <td>Areeb Shariff</td>\n",
       "      <td>135919</td>\n",
       "      <td>1183</td>\n",
       "      <td>Karachi, Pakistan</td>\n",
       "      <td>False</td>\n",
       "      <td>0</td>\n",
       "      <td>3</td>\n",
       "      <td>2021-06-19 06:33:07</td>\n",
       "    </tr>\n",
       "    <tr>\n",
       "      <th>2</th>\n",
       "      <td>@mazemoore @Rachael1776 Fast forward to 2019.\\...</td>\n",
       "      <td>Victorian Dad</td>\n",
       "      <td>19759</td>\n",
       "      <td>859</td>\n",
       "      <td>Currently at Siege of Khartoum</td>\n",
       "      <td>False</td>\n",
       "      <td>0</td>\n",
       "      <td>0</td>\n",
       "      <td>2021-06-19 05:21:26</td>\n",
       "    </tr>\n",
       "    <tr>\n",
       "      <th>3</th>\n",
       "      <td>RT @anniekarni: Tshibaka, who promoted false c...</td>\n",
       "      <td>Rosana</td>\n",
       "      <td>3651</td>\n",
       "      <td>14</td>\n",
       "      <td></td>\n",
       "      <td>False</td>\n",
       "      <td>0</td>\n",
       "      <td>60</td>\n",
       "      <td>2021-06-19 04:50:35</td>\n",
       "    </tr>\n",
       "    <tr>\n",
       "      <th>4</th>\n",
       "      <td>RT @anniekarni: Tshibaka, who promoted false c...</td>\n",
       "      <td>@amt0407</td>\n",
       "      <td>16478</td>\n",
       "      <td>341</td>\n",
       "      <td></td>\n",
       "      <td>False</td>\n",
       "      <td>0</td>\n",
       "      <td>60</td>\n",
       "      <td>2021-06-19 03:38:55</td>\n",
       "    </tr>\n",
       "  </tbody>\n",
       "</table>\n",
       "</div>"
      ],
      "text/plain": [
       "                                              Tweets           User  \\\n",
       "0  RT @RYP__: TrumptyDumpty moves into phase ? of...   Willa A Bell   \n",
       "1  RT @_su_gibi: Joe Biden really won an election...  Areeb Shariff   \n",
       "2  @mazemoore @Rachael1776 Fast forward to 2019.\\...  Victorian Dad   \n",
       "3  RT @anniekarni: Tshibaka, who promoted false c...         Rosana   \n",
       "4  RT @anniekarni: Tshibaka, who promoted false c...       @amt0407   \n",
       "\n",
       "  User_statuses_count user_followers                   User_location  \\\n",
       "0               56576            208                                   \n",
       "1              135919           1183               Karachi, Pakistan   \n",
       "2               19759            859  Currently at Siege of Khartoum   \n",
       "3                3651             14                                   \n",
       "4               16478            341                                   \n",
       "\n",
       "  User_verified fav_count rt_count           tweet_date  \n",
       "0         False         0       13  2021-06-19 07:11:08  \n",
       "1         False         0        3  2021-06-19 06:33:07  \n",
       "2         False         0        0  2021-06-19 05:21:26  \n",
       "3         False         0       60  2021-06-19 04:50:35  \n",
       "4         False         0       60  2021-06-19 03:38:55  "
      ]
     },
     "execution_count": 9,
     "metadata": {},
     "output_type": "execute_result"
    }
   ],
   "source": [
    "df.head()"
   ]
  },
  {
   "cell_type": "code",
   "execution_count": 10,
   "metadata": {},
   "outputs": [
    {
     "data": {
      "text/plain": [
       "(1000, 9)"
      ]
     },
     "execution_count": 10,
     "metadata": {},
     "output_type": "execute_result"
    }
   ],
   "source": [
    "df.shape"
   ]
  },
  {
   "cell_type": "code",
   "execution_count": 11,
   "metadata": {},
   "outputs": [],
   "source": [
    "from textblob import TextBlob"
   ]
  },
  {
   "cell_type": "raw",
   "metadata": {},
   "source": [
    "Textblob has built-in sentiment property\n",
    "\n",
    "Sentiment(polarity, subjectivity)\n",
    "\n",
    "Polarity: It is a float score withan a range [-1, 1]\n",
    "\n",
    "Subjectivity: It is a float value in the range [0,1] where  0 means very Objective and 1 means very Subjective."
   ]
  },
  {
   "cell_type": "code",
   "execution_count": 12,
   "metadata": {},
   "outputs": [],
   "source": [
    "import re\n",
    "def clean_tweet(tweet):\n",
    "    return ' '.join(re.sub('(@[A-Za-z0-9]+)|([^0-9A-Za-z \\t])|(\\w+:\\/\\/\\S+)', ' ', tweet).split())"
   ]
  },
  {
   "cell_type": "code",
   "execution_count": 13,
   "metadata": {},
   "outputs": [],
   "source": [
    "def analyze_sentiment(tweet):\n",
    "    analysis = TextBlob(tweet)\n",
    "    if analysis.sentiment.polarity>0:\n",
    "        return 'Positive'\n",
    "    elif analysis.sentiment.polarity==0:\n",
    "        return 'Neutral'\n",
    "    else:\n",
    "        return 'Negative'"
   ]
  },
  {
   "cell_type": "code",
   "execution_count": 14,
   "metadata": {},
   "outputs": [],
   "source": [
    "df['clean_tweet'] = df['Tweets'].apply(lambda x: clean_tweet(x))"
   ]
  },
  {
   "cell_type": "code",
   "execution_count": 15,
   "metadata": {},
   "outputs": [
    {
     "data": {
      "text/html": [
       "<div>\n",
       "<style scoped>\n",
       "    .dataframe tbody tr th:only-of-type {\n",
       "        vertical-align: middle;\n",
       "    }\n",
       "\n",
       "    .dataframe tbody tr th {\n",
       "        vertical-align: top;\n",
       "    }\n",
       "\n",
       "    .dataframe thead th {\n",
       "        text-align: right;\n",
       "    }\n",
       "</style>\n",
       "<table border=\"1\" class=\"dataframe\">\n",
       "  <thead>\n",
       "    <tr style=\"text-align: right;\">\n",
       "      <th></th>\n",
       "      <th>Tweets</th>\n",
       "      <th>clean_tweet</th>\n",
       "    </tr>\n",
       "  </thead>\n",
       "  <tbody>\n",
       "    <tr>\n",
       "      <th>0</th>\n",
       "      <td>RT @RYP__: TrumptyDumpty moves into phase ? of...</td>\n",
       "      <td>RT TrumptyDumpty moves into phase of his Seven...</td>\n",
       "    </tr>\n",
       "    <tr>\n",
       "      <th>1</th>\n",
       "      <td>RT @_su_gibi: Joe Biden really won an election...</td>\n",
       "      <td>RT su gibi Joe Biden really won an election in...</td>\n",
       "    </tr>\n",
       "    <tr>\n",
       "      <th>2</th>\n",
       "      <td>@mazemoore @Rachael1776 Fast forward to 2019.\\...</td>\n",
       "      <td>Fast forward to 2019 Biden China is going to e...</td>\n",
       "    </tr>\n",
       "    <tr>\n",
       "      <th>3</th>\n",
       "      <td>RT @anniekarni: Tshibaka, who promoted false c...</td>\n",
       "      <td>RT Tshibaka who promoted false claims of elect...</td>\n",
       "    </tr>\n",
       "    <tr>\n",
       "      <th>4</th>\n",
       "      <td>RT @anniekarni: Tshibaka, who promoted false c...</td>\n",
       "      <td>RT Tshibaka who promoted false claims of elect...</td>\n",
       "    </tr>\n",
       "  </tbody>\n",
       "</table>\n",
       "</div>"
      ],
      "text/plain": [
       "                                              Tweets  \\\n",
       "0  RT @RYP__: TrumptyDumpty moves into phase ? of...   \n",
       "1  RT @_su_gibi: Joe Biden really won an election...   \n",
       "2  @mazemoore @Rachael1776 Fast forward to 2019.\\...   \n",
       "3  RT @anniekarni: Tshibaka, who promoted false c...   \n",
       "4  RT @anniekarni: Tshibaka, who promoted false c...   \n",
       "\n",
       "                                         clean_tweet  \n",
       "0  RT TrumptyDumpty moves into phase of his Seven...  \n",
       "1  RT su gibi Joe Biden really won an election in...  \n",
       "2  Fast forward to 2019 Biden China is going to e...  \n",
       "3  RT Tshibaka who promoted false claims of elect...  \n",
       "4  RT Tshibaka who promoted false claims of elect...  "
      ]
     },
     "execution_count": 15,
     "metadata": {},
     "output_type": "execute_result"
    }
   ],
   "source": [
    "df[['Tweets','clean_tweet']].head()"
   ]
  },
  {
   "cell_type": "code",
   "execution_count": 16,
   "metadata": {},
   "outputs": [],
   "source": [
    "df['Sentiment'] = df['clean_tweet'].apply(lambda x: analyze_sentiment(x))"
   ]
  },
  {
   "cell_type": "code",
   "execution_count": 17,
   "metadata": {},
   "outputs": [
    {
     "data": {
      "text/html": [
       "<div>\n",
       "<style scoped>\n",
       "    .dataframe tbody tr th:only-of-type {\n",
       "        vertical-align: middle;\n",
       "    }\n",
       "\n",
       "    .dataframe tbody tr th {\n",
       "        vertical-align: top;\n",
       "    }\n",
       "\n",
       "    .dataframe thead th {\n",
       "        text-align: right;\n",
       "    }\n",
       "</style>\n",
       "<table border=\"1\" class=\"dataframe\">\n",
       "  <thead>\n",
       "    <tr style=\"text-align: right;\">\n",
       "      <th></th>\n",
       "      <th>clean_tweet</th>\n",
       "      <th>Sentiment</th>\n",
       "    </tr>\n",
       "  </thead>\n",
       "  <tbody>\n",
       "    <tr>\n",
       "      <th>0</th>\n",
       "      <td>RT TrumptyDumpty moves into phase of his Seven...</td>\n",
       "      <td>Neutral</td>\n",
       "    </tr>\n",
       "    <tr>\n",
       "      <th>1</th>\n",
       "      <td>RT su gibi Joe Biden really won an election in...</td>\n",
       "      <td>Negative</td>\n",
       "    </tr>\n",
       "    <tr>\n",
       "      <th>2</th>\n",
       "      <td>Fast forward to 2019 Biden China is going to e...</td>\n",
       "      <td>Negative</td>\n",
       "    </tr>\n",
       "    <tr>\n",
       "      <th>3</th>\n",
       "      <td>RT Tshibaka who promoted false claims of elect...</td>\n",
       "      <td>Positive</td>\n",
       "    </tr>\n",
       "    <tr>\n",
       "      <th>4</th>\n",
       "      <td>RT Tshibaka who promoted false claims of elect...</td>\n",
       "      <td>Positive</td>\n",
       "    </tr>\n",
       "  </tbody>\n",
       "</table>\n",
       "</div>"
      ],
      "text/plain": [
       "                                         clean_tweet Sentiment\n",
       "0  RT TrumptyDumpty moves into phase of his Seven...   Neutral\n",
       "1  RT su gibi Joe Biden really won an election in...  Negative\n",
       "2  Fast forward to 2019 Biden China is going to e...  Negative\n",
       "3  RT Tshibaka who promoted false claims of elect...  Positive\n",
       "4  RT Tshibaka who promoted false claims of elect...  Positive"
      ]
     },
     "execution_count": 17,
     "metadata": {},
     "output_type": "execute_result"
    }
   ],
   "source": [
    "df[['clean_tweet','Sentiment']].head()"
   ]
  },
  {
   "cell_type": "code",
   "execution_count": 18,
   "metadata": {},
   "outputs": [],
   "source": [
    "pd.set_option('display.max_rows', 500)\n",
    "pd.set_option('display.max_columns', 500)\n",
    "pd.set_option('display.width', 1000)"
   ]
  },
  {
   "cell_type": "code",
   "execution_count": 19,
   "metadata": {},
   "outputs": [
    {
     "data": {
      "text/html": [
       "<div>\n",
       "<style scoped>\n",
       "    .dataframe tbody tr th:only-of-type {\n",
       "        vertical-align: middle;\n",
       "    }\n",
       "\n",
       "    .dataframe tbody tr th {\n",
       "        vertical-align: top;\n",
       "    }\n",
       "\n",
       "    .dataframe thead th {\n",
       "        text-align: right;\n",
       "    }\n",
       "</style>\n",
       "<table border=\"1\" class=\"dataframe\">\n",
       "  <thead>\n",
       "    <tr style=\"text-align: right;\">\n",
       "      <th></th>\n",
       "      <th>clean_tweet</th>\n",
       "      <th>Sentiment</th>\n",
       "    </tr>\n",
       "  </thead>\n",
       "  <tbody>\n",
       "    <tr>\n",
       "      <th>0</th>\n",
       "      <td>RT TrumptyDumpty moves into phase of his Seven...</td>\n",
       "      <td>Neutral</td>\n",
       "    </tr>\n",
       "    <tr>\n",
       "      <th>1</th>\n",
       "      <td>RT su gibi Joe Biden really won an election in...</td>\n",
       "      <td>Negative</td>\n",
       "    </tr>\n",
       "    <tr>\n",
       "      <th>2</th>\n",
       "      <td>Fast forward to 2019 Biden China is going to e...</td>\n",
       "      <td>Negative</td>\n",
       "    </tr>\n",
       "    <tr>\n",
       "      <th>3</th>\n",
       "      <td>RT Tshibaka who promoted false claims of elect...</td>\n",
       "      <td>Positive</td>\n",
       "    </tr>\n",
       "    <tr>\n",
       "      <th>4</th>\n",
       "      <td>RT Tshibaka who promoted false claims of elect...</td>\n",
       "      <td>Positive</td>\n",
       "    </tr>\n",
       "  </tbody>\n",
       "</table>\n",
       "</div>"
      ],
      "text/plain": [
       "                                         clean_tweet Sentiment\n",
       "0  RT TrumptyDumpty moves into phase of his Seven...   Neutral\n",
       "1  RT su gibi Joe Biden really won an election in...  Negative\n",
       "2  Fast forward to 2019 Biden China is going to e...  Negative\n",
       "3  RT Tshibaka who promoted false claims of elect...  Positive\n",
       "4  RT Tshibaka who promoted false claims of elect...  Positive"
      ]
     },
     "execution_count": 19,
     "metadata": {},
     "output_type": "execute_result"
    }
   ],
   "source": [
    "df[['clean_tweet','Sentiment']].head()"
   ]
  },
  {
   "cell_type": "code",
   "execution_count": 20,
   "metadata": {},
   "outputs": [
    {
     "name": "stdout",
     "output_type": "stream",
     "text": [
      "                                              Tweets           User User_statuses_count user_followers                   User_location User_verified fav_count rt_count           tweet_date                                        clean_tweet Sentiment\n",
      "0  RT @RYP__: TrumptyDumpty moves into phase ? of...   Willa A Bell               56576            208                                         False         0       13  2021-06-19 07:11:08  RT TrumptyDumpty moves into phase of his Seven...   Neutral\n",
      "1  RT @_su_gibi: Joe Biden really won an election...  Areeb Shariff              135919           1183               Karachi, Pakistan         False         0        3  2021-06-19 06:33:07  RT su gibi Joe Biden really won an election in...  Negative\n",
      "2  @mazemoore @Rachael1776 Fast forward to 2019.\\...  Victorian Dad               19759            859  Currently at Siege of Khartoum         False         0        0  2021-06-19 05:21:26  Fast forward to 2019 Biden China is going to e...  Negative\n",
      "3  RT @anniekarni: Tshibaka, who promoted false c...         Rosana                3651             14                                         False         0       60  2021-06-19 04:50:35  RT Tshibaka who promoted false claims of elect...  Positive\n",
      "4  RT @anniekarni: Tshibaka, who promoted false c...       @amt0407               16478            341                                         False         0       60  2021-06-19 03:38:55  RT Tshibaka who promoted false claims of elect...  Positive\n",
      "(1000, 11)\n"
     ]
    }
   ],
   "source": [
    "print(df.head())\n",
    "print(df.shape)"
   ]
  },
  {
   "cell_type": "code",
   "execution_count": 21,
   "metadata": {},
   "outputs": [
    {
     "name": "stdout",
     "output_type": "stream",
     "text": [
      "Original Tweet:\n",
      "RT @27khv: At his own presser, Joe Biden has just asked \"how would we feel (Americans) if the rest of the world thought we interfered in de…\n",
      "\n",
      "Clean Tweet:\n",
      "RT At his own presser Joe Biden has just asked how would we feel Americans if the rest of the world thought we interfered in de\n",
      "\n",
      "Sentiment:\n",
      "Positive\n"
     ]
    }
   ],
   "source": [
    "n = 20\n",
    "print('Original Tweet:\\n'+df['Tweets'][n])\n",
    "print()\n",
    "print('Clean Tweet:\\n'+df['clean_tweet'][n])\n",
    "print()\n",
    "print(\"Sentiment:\\n\"+df['Sentiment'][n])"
   ]
  },
  {
   "cell_type": "code",
   "execution_count": 22,
   "metadata": {},
   "outputs": [
    {
     "name": "stdout",
     "output_type": "stream",
     "text": [
      "Original Tweet:\n",
      "RT @BombshellDAILY: TEXAS STATE BAR ASSOCIATION INVESTIGATING ABBOTT FOR ATTEMPTING TO REVERSE ELECTION \n",
      "Did bogus claims of fraud amount t…\n",
      "\n",
      "Clean Tweet:\n",
      "RT TEXAS STATE BAR ASSOCIATION INVESTIGATING ABBOTT FOR ATTEMPTING TO REVERSE ELECTION Did bogus claims of fraud amount t\n",
      "\n",
      "Sentiment:\n",
      "Neutral\n"
     ]
    }
   ],
   "source": [
    "n = 202\n",
    "print('Original Tweet:\\n'+df['Tweets'][n])\n",
    "print()\n",
    "print('Clean Tweet:\\n'+df['clean_tweet'][n])\n",
    "print()\n",
    "print(\"Sentiment:\\n\"+df['Sentiment'][n])"
   ]
  },
  {
   "cell_type": "code",
   "execution_count": 23,
   "metadata": {},
   "outputs": [
    {
     "name": "stdout",
     "output_type": "stream",
     "text": [
      "Original Tweet:\n",
      "RT @anniekarni: Tshibaka, who promoted false claims of election fraud last year and who has written articles supporting gay conversion ther…\n",
      "\n",
      "Clean Tweet:\n",
      "RT Tshibaka who promoted false claims of election fraud last year and who has written articles supporting gay conversion ther\n",
      "\n",
      "Sentiment:\n",
      "Positive\n"
     ]
    }
   ],
   "source": [
    "n = 50\n",
    "print('Original Tweet:\\n'+df['Tweets'][n])\n",
    "print()\n",
    "print('Clean Tweet:\\n'+df['clean_tweet'][n])\n",
    "print()\n",
    "print(\"Sentiment:\\n\"+df['Sentiment'][n])"
   ]
  },
  {
   "cell_type": "code",
   "execution_count": 24,
   "metadata": {},
   "outputs": [
    {
     "data": {
      "text/plain": [
       "462"
      ]
     },
     "execution_count": 24,
     "metadata": {},
     "output_type": "execute_result"
    }
   ],
   "source": [
    "df[df.Sentiment=='Positive'].shape[0]"
   ]
  },
  {
   "cell_type": "code",
   "execution_count": 25,
   "metadata": {},
   "outputs": [
    {
     "data": {
      "text/plain": [
       "308"
      ]
     },
     "execution_count": 25,
     "metadata": {},
     "output_type": "execute_result"
    }
   ],
   "source": [
    "df[df.Sentiment=='Neutral'].shape[0]"
   ]
  },
  {
   "cell_type": "code",
   "execution_count": 26,
   "metadata": {},
   "outputs": [
    {
     "data": {
      "text/plain": [
       "230"
      ]
     },
     "execution_count": 26,
     "metadata": {},
     "output_type": "execute_result"
    }
   ],
   "source": [
    "df[df.Sentiment=='Negative'].shape[0]"
   ]
  },
  {
   "cell_type": "raw",
   "metadata": {},
   "source": [
    "data= \"US election Joe Biden\"\n",
    "Positive = 476\n",
    "Neutral = 400\n",
    "Negative = 124"
   ]
  }
 ],
 "metadata": {
  "kernelspec": {
   "display_name": "Python 3",
   "language": "python",
   "name": "python3"
  },
  "language_info": {
   "codemirror_mode": {
    "name": "ipython",
    "version": 3
   },
   "file_extension": ".py",
   "mimetype": "text/x-python",
   "name": "python",
   "nbconvert_exporter": "python",
   "pygments_lexer": "ipython3",
   "version": "3.8.5"
  }
 },
 "nbformat": 4,
 "nbformat_minor": 4
}
