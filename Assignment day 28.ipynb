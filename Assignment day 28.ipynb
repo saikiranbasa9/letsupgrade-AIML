{
 "cells": [
  {
   "cell_type": "code",
   "execution_count": 3,
   "metadata": {},
   "outputs": [
    {
     "name": "stdout",
     "output_type": "stream",
     "text": [
      "[[4 2]\n",
      " [1 3]]\n",
      "<class 'numpy.ndarray'>\n"
     ]
    }
   ],
   "source": [
    "from sklearn.metrics import confusion_matrix\n",
    "exp = [1, 1, 0, 1, 0, 0, 1, 0, 0, 0]\n",
    "pred = [1, 0, 0, 1, 0, 0, 1, 1, 1, 0]\n",
    "cm = confusion_matrix(exp, pred)\n",
    "print(cm)\n",
    "print(type(cm))"
   ]
  },
  {
   "cell_type": "code",
   "execution_count": 7,
   "metadata": {},
   "outputs": [
    {
     "name": "stdout",
     "output_type": "stream",
     "text": [
      "Accuracy=  100.76190476190476\n",
      "Precision=  9.0\n",
      "Recall= 19.0\n",
      "F1_Score 76.0\n"
     ]
    }
   ],
   "source": [
    "TP=42\n",
    "FP=8\n",
    "TN=32\n",
    "FN=18\n",
    "acc= TP+TN /TP+TN+FP+FN\n",
    "print(\"Accuracy= \",acc)\n",
    "Precision=TP /TP+FP\n",
    "print(\"Precision= \",Precision)\n",
    "Recall=TP/TP+FN\n",
    "print(\"Recall=\",Recall)\n",
    "F1_score= 2*(Precision*Recall/Precision+Recall)\n",
    "print(\"F1_Score\",F1_score)\n"
   ]
  }
 ],
 "metadata": {
  "kernelspec": {
   "display_name": "Python 3",
   "language": "python",
   "name": "python3"
  },
  "language_info": {
   "codemirror_mode": {
    "name": "ipython",
    "version": 3
   },
   "file_extension": ".py",
   "mimetype": "text/x-python",
   "name": "python",
   "nbconvert_exporter": "python",
   "pygments_lexer": "ipython3",
   "version": "3.8.5"
  }
 },
 "nbformat": 4,
 "nbformat_minor": 4
}
