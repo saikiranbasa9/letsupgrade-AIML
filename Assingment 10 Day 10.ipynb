{
 "cells": [
  {
   "cell_type": "code",
   "execution_count": 23,
   "metadata": {},
   "outputs": [
    {
     "name": "stdout",
     "output_type": "stream",
     "text": [
      "Comparison - greater\n",
      "[ True False]\n",
      "Comparison - greater_equal\n",
      "[ True False]\n",
      "Comparison - less\n",
      "[False  True]\n",
      "Comparison - less_equal\n",
      "[False  True]\n"
     ]
    }
   ],
   "source": [
    "import numpy as np\n",
    "x = np.array([13, 10])\n",
    "y = np.array([12, 15])\n",
    "print(\"Comparison - greater\")\n",
    "print(np.greater(x, y))\n",
    "print(\"Comparison - greater_equal\")\n",
    "print(np.greater_equal(x, y))\n",
    "print(\"Comparison - less\")\n",
    "print(np.less(x, y))\n",
    "print(\"Comparison - less_equal\")\n",
    "print(np.less_equal(x, y))"
   ]
  },
  {
   "cell_type": "code",
   "execution_count": 24,
   "metadata": {},
   "outputs": [
    {
     "name": "stdout",
     "output_type": "stream",
     "text": [
      "An array of 10 zeros:\n",
      "[0. 0. 0. 0. 0. 0. 0. 0. 0. 0.]\n",
      "An array of 10 ones:\n",
      "[1. 1. 1. 1. 1. 1. 1. 1. 1. 1.]\n",
      "An array of 10 fives:\n",
      "[5. 5. 5. 5. 5. 5. 5. 5. 5. 5.]\n"
     ]
    }
   ],
   "source": [
    "import numpy as np\n",
    "array=np.zeros(10)\n",
    "print(\"An array of 10 zeros:\")\n",
    "print(array)\n",
    "array=np.ones(10)\n",
    "print(\"An array of 10 ones:\")\n",
    "print(array)\n",
    "array=np.ones(10)*5\n",
    "print(\"An array of 10 fives:\")\n",
    "print(array)"
   ]
  },
  {
   "cell_type": "code",
   "execution_count": 8,
   "metadata": {},
   "outputs": [
    {
     "name": "stdout",
     "output_type": "stream",
     "text": [
      "Original array:\n",
      "[[0 1]\n",
      " [2 3]]\n",
      "Sum of all elements:\n",
      "6\n",
      "Sum of each column:\n",
      "[2 4]\n",
      "Sum of each row:\n",
      "[1 5]\n"
     ]
    }
   ],
   "source": [
    "import numpy as np\n",
    "x = np.array([[0,1],[2,3]])\n",
    "print(\"Original array:\")\n",
    "print(x)\n",
    "print(\"Sum of all elements:\")\n",
    "print(np.sum(x))\n",
    "print(\"Sum of each column:\")\n",
    "print(np.sum(x, axis=0))\n",
    "print(\"Sum of each row:\")\n",
    "print(np.sum(x, axis=1))"
   ]
  },
  {
   "cell_type": "code",
   "execution_count": 26,
   "metadata": {},
   "outputs": [
    {
     "name": "stdout",
     "output_type": "stream",
     "text": [
      "Add:\n",
      "[3 3]\n",
      "Subtract:\n",
      "[-1 -1]\n",
      "Multiply:\n",
      "[2 2]\n",
      "Divide:\n",
      "[0.5 0.5]\n"
     ]
    }
   ],
   "source": [
    "import numpy as np\n",
    "x=np.array([1,1])\n",
    "y=np.array([2,2])\n",
    "print(\"Add:\")\n",
    "print(np.add(x,y))\n",
    "print(\"Subtract:\")\n",
    "print(np.subtract(x,y))\n",
    "print(\"Multiply:\")\n",
    "print(np.multiply(x,y))\n",
    "print(\"Divide:\")\n",
    "print(np.divide(x,y))"
   ]
  },
  {
   "cell_type": "code",
   "execution_count": 42,
   "metadata": {},
   "outputs": [
    {
     "name": "stdout",
     "output_type": "stream",
     "text": [
      "sine: array of angles given in degrees\n",
      "[0.         0.5        0.70710678 0.8660254  1.        ]\n",
      "cosine: array of angles given in degrees\n",
      "[1.00000000e+00 8.66025404e-01 7.07106781e-01 5.00000000e-01\n",
      " 6.12323400e-17]\n",
      "tangent: array of angles given in degrees\n",
      "[0.00000000e+00 5.77350269e-01 1.00000000e+00 1.73205081e+00\n",
      " 1.63312394e+16]\n"
     ]
    }
   ],
   "source": [
    "import numpy as np\n",
    "print(\"sine: array of angles given in degrees\")\n",
    "print(np.sin(np.array((0, 30, 45, 60, 90))* np.pi / 180.))\n",
    "print(\"cosine: array of angles given in degrees\")\n",
    "print(np.cos(np.array((0, 30, 45, 60, 90))* np.pi / 180.))\n",
    "print(\"tangent: array of angles given in degrees\")\n",
    "print(np.tan(np.array((0, 30, 45, 60, 90))* np.pi / 180. ))"
   ]
  },
  {
   "cell_type": "code",
   "execution_count": 54,
   "metadata": {},
   "outputs": [
    {
     "name": "stdout",
     "output_type": "stream",
     "text": [
      "        name  score  attempts qualify\n",
      "a  Anastasia   12.5         1     yes\n",
      "b       Dima    9.0         3      no\n",
      "c  Katherine   16.5         2     yes\n",
      "d      James    NaN         3      no\n",
      "e      Emily    9.0         2      no\n",
      "f    Michael   20.0         3     yes\n",
      "g    Matthew   14.5         1     yes\n",
      "h      Laura    NaN         1      no\n",
      "i      Kevin    8.0         2      no\n",
      "j      Jonas   19.0         1     yes\n"
     ]
    }
   ],
   "source": [
    "import pandas as pd\n",
    "import numpy as np\n",
    "\n",
    "exam_data  = {'name': ['Anastasia', 'Dima', 'Katherine', 'James', 'Emily', 'Michael', 'Matthew', 'Laura', 'Kevin', 'Jonas'],\n",
    "        'score': [12.5, 9, 16.5, np.nan, 9, 20, 14.5, np.nan, 8, 19],\n",
    "        'attempts': [1, 3, 2, 3, 2, 3, 1, 1, 2, 1],\n",
    "        'qualify': ['yes', 'no', 'yes', 'no', 'no', 'yes', 'yes', 'no', 'no', 'yes']}\n",
    "labels = ['a', 'b', 'c', 'd', 'e', 'f', 'g', 'h', 'i', 'j']\n",
    "\n",
    "df = pd.DataFrame(exam_data , index=labels)\n",
    "print(df)"
   ]
  },
  {
   "cell_type": "code",
   "execution_count": 62,
   "metadata": {},
   "outputs": [
    {
     "name": "stdout",
     "output_type": "stream",
     "text": [
      "Data\n",
      "       name  score  attempts qualify\n",
      "a       sai   12.5         1     yes\n",
      "b     kiran    9.0         3      no\n",
      "c       mno   16.5         2     yes\n",
      "d       abc    NaN         3      no\n",
      "e       xyz    9.0         2      no\n",
      "f  dharshan   20.0         3     yes\n",
      "g      basa   14.5         1     yes\n",
      "h     april    NaN         1      no\n",
      "i     march    8.0         2      no\n",
      "j    monday   19.0         1     yes\n"
     ]
    }
   ],
   "source": [
    "import pandas as pd\n",
    "import numpy as np\n",
    "exam_data  = {'name': ['sai', 'kiran', 'mno', 'abc', 'xyz', 'dharshan', 'basa', 'april', 'march', 'monday'],\n",
    "              'score': [12.5, 9, 16.5, np.nan, 9, 20, 14.5, np.nan, 8, 19],\n",
    "              'attempts': [1, 3, 2, 3, 2, 3, 1, 1, 2, 1],\n",
    "              'qualify': ['yes', 'no', 'yes', 'no', 'no', 'yes', 'yes', 'no', 'no', 'yes']}\n",
    "labels = ['a', 'b', 'c', 'd', 'e', 'f', 'g', 'h', 'i', 'j']\n",
    "df = pd.DataFrame(exam_data , index=labels)\n",
    "print(\"Data\")\n",
    "print(df[['name', 'score','attempts','qualify']])"
   ]
  },
  {
   "cell_type": "code",
   "execution_count": 66,
   "metadata": {},
   "outputs": [
    {
     "name": "stdout",
     "output_type": "stream",
     "text": [
      "Original DataFrames:\n",
      "  student_id     name  marks\n",
      "0          1   Prince    200\n",
      "1          2    Archi    210\n",
      "2          3  Prashya    190\n",
      "3          4   Sallya    222\n",
      "4          5  Pradeep    199\n",
      "  student_id       name  marks\n",
      "0          4    Atharva    201\n",
      "1          5      Manoj    200\n",
      "2          6    Shubham    198\n",
      "3          7   Saikiran    219\n",
      "4          8  Rushikesh    201\n",
      "\n",
      "Join the said two dataframes along rows:\n",
      "  student_id       name  marks\n",
      "0          1     Prince    200\n",
      "1          2      Archi    210\n",
      "2          3    Prashya    190\n",
      "3          4     Sallya    222\n",
      "4          5    Pradeep    199\n",
      "0          4    Atharva    201\n",
      "1          5      Manoj    200\n",
      "2          6    Shubham    198\n",
      "3          7   Saikiran    219\n",
      "4          8  Rushikesh    201\n"
     ]
    }
   ],
   "source": [
    "import pandas as pd\n",
    "\n",
    "student_data1 = pd.DataFrame({\n",
    "        'student_id': ['1', '2', '3', '4', '5'],\n",
    "         'name': ['Prince', 'Archi', 'Prashya', 'Sallya', 'Pradeep'], \n",
    "        'marks': [200, 210, 190, 222, 199]})\n",
    "\n",
    "student_data2 = pd.DataFrame({\n",
    "        'student_id': ['4', '5', '6', '7', '8'],\n",
    "        'name': ['Atharva', 'Manoj', 'Shubham', 'Saikiran', 'Rushikesh'], \n",
    "        'marks': [201, 200, 198, 219, 201]})\n",
    "\n",
    "print(\"Original DataFrames:\")\n",
    "print(student_data1)\n",
    "print(student_data2)\n",
    "print(\"\\nJoin the said two dataframes along rows:\")\n",
    "result_data = pd.concat([student_data1, student_data2])\n",
    "print(result_data)\n"
   ]
  },
  {
   "cell_type": "code",
   "execution_count": 68,
   "metadata": {},
   "outputs": [
    {
     "name": "stdout",
     "output_type": "stream",
     "text": [
      "Original Orders DataFrame:\n",
      "    student_id  fees_amount    add_date  libaray_id  workshop_id\n",
      "0      70001.0       150.50  2012-10-05        3002       5002.0\n",
      "1          NaN       270.65  2012-09-10        3001       5003.0\n",
      "2      70002.0        65.26         NaN        3001       5001.0\n",
      "3      70004.0       110.50  2012-08-17        3003          NaN\n",
      "4          NaN       948.50  2012-09-10        3002       5002.0\n",
      "5      70005.0      2400.60  2012-07-27        3001       5001.0\n",
      "6          NaN      5760.00  2012-09-10        3001       5001.0\n",
      "7      70010.0      1983.43  2012-10-10        3004          NaN\n",
      "8      70003.0      2480.40  2012-10-10        3003       5003.0\n",
      "9      70012.0       250.45  2012-06-27        3002       5002.0\n",
      "10         NaN        75.29  2012-08-17        3001       5003.0\n",
      "11     70013.0      3045.60  2012-04-25        3001          NaN\n",
      "\n",
      "Missing values of the said dataframe:\n",
      "    student_id  fees_amount  add_date  libaray_id  workshop_id\n",
      "0        False        False     False       False        False\n",
      "1         True        False     False       False        False\n",
      "2        False        False      True       False        False\n",
      "3        False        False     False       False         True\n",
      "4         True        False     False       False        False\n",
      "5        False        False     False       False        False\n",
      "6         True        False     False       False        False\n",
      "7        False        False     False       False         True\n",
      "8        False        False     False       False        False\n",
      "9        False        False     False       False        False\n",
      "10        True        False     False       False        False\n",
      "11       False        False     False       False         True\n"
     ]
    }
   ],
   "source": [
    "import pandas as pd\n",
    "import numpy as np\n",
    "pd.set_option('display.max_rows', None)\n",
    "df = pd.DataFrame({\n",
    "'student_id':[70001,np.nan,70002,70004,np.nan,70005,np.nan,70010,70003,70012,np.nan,70013],\n",
    "'fees_amount':[150.5,270.65,65.26,110.5,948.5,2400.6,5760,1983.43,2480.4,250.45, 75.29,3045.6],\n",
    "'add_date': ['2012-10-05','2012-09-10',np.nan,'2012-08-17','2012-09-10','2012-07-27','2012-09-10','2012-10-10','2012-10-10','2012-06-27','2012-08-17','2012-04-25'],\n",
    "'libaray_id':[3002,3001,3001,3003,3002,3001,3001,3004,3003,3002,3001,3001],\n",
    "'workshop_id':[5002,5003,5001,np.nan,5002,5001,5001,np.nan,5003,5002,5003,np.nan]})\n",
    "print(\"Original Orders DataFrame:\")\n",
    "print(df)\n",
    "print(\"\\nMissing values of the said dataframe:\")\n",
    "print(df.isna())"
   ]
  },
  {
   "cell_type": "code",
   "execution_count": 70,
   "metadata": {},
   "outputs": [
    {
     "name": "stdout",
     "output_type": "stream",
     "text": [
      "0    26\n",
      "1    84\n",
      "2    97\n",
      "3    22\n",
      "4    84\n",
      "5    65\n",
      "6    55\n",
      "dtype: int64\n"
     ]
    }
   ],
   "source": [
    "import pandas as pd\n",
    "ds = pd.Series([26,84,97,22,84,65,55,])\n",
    "print(ds)"
   ]
  }
 ],
 "metadata": {
  "kernelspec": {
   "display_name": "Python 3",
   "language": "python",
   "name": "python3"
  },
  "language_info": {
   "codemirror_mode": {
    "name": "ipython",
    "version": 3
   },
   "file_extension": ".py",
   "mimetype": "text/x-python",
   "name": "python",
   "nbconvert_exporter": "python",
   "pygments_lexer": "ipython3",
   "version": "3.7.6"
  }
 },
 "nbformat": 4,
 "nbformat_minor": 4
}
