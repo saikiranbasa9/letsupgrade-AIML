{
 "cells": [
  {
   "cell_type": "code",
   "execution_count": 19,
   "metadata": {},
   "outputs": [
    {
     "name": "stdout",
     "output_type": "stream",
     "text": [
      "Min: Mercury\n",
      "Max: Pluto\n"
     ]
    }
   ],
   "source": [
    "sol = {\"Uranus\":[2750, 3000, 2880], \"Mercury\":[46, 70, 57], \"Earth\":[147, 152, 150], \"Venus\":[107, 109, 108], \"Mars\":[205, 249, 228], \"Saturn\":[1350, 1510, 1430], \"Jupiter\":[741, 817, 779], \"Pluto\":[4440, 7380, 5910], \"Neptune\":[4450, 4550, 4500]}\n",
    "\n",
    "def distance(close=True):\n",
    "    closest = 9999 \n",
    "    farthest= 0\n",
    "    for name in sol:\n",
    "        for index in range (3) :\n",
    "            closefar = sol[name][index]\n",
    "            if close :\n",
    "                if closefar < closest :\n",
    "                    closefarname = name\n",
    "                    closest = closefar\n",
    "            else :\n",
    "                if closefar > farthest :\n",
    "                    closefarname = name\n",
    "                    farthest = closefar\n",
    "    return closefarname\n",
    "\n",
    "print(\"Min:\", distance(True))\n",
    "print(\"Max:\", distance(False))"
   ]
  },
  {
   "cell_type": "code",
   "execution_count": 31,
   "metadata": {},
   "outputs": [],
   "source": [
    "a= open (\"t1.txt\",'w')\n",
    "a.write(\"hello\")\n",
    "a.write(\"\\nhi\")\n",
    "a.write(\"\\na long, narrow mark or band.\")\n",
    "a.close()"
   ]
  },
  {
   "cell_type": "code",
   "execution_count": 32,
   "metadata": {},
   "outputs": [],
   "source": [
    "b= open (\"t2.txt\",'w')\n",
    "b.write(\"a length of cord, rope, wire, or other material serving a particular purpose\")\n",
    "b.write(\"\\nstand or be positioned at intervals along.\")\n",
    "b.write(\"\\nmark or cover with lines.\")\n",
    "b.close()"
   ]
  },
  {
   "cell_type": "code",
   "execution_count": 33,
   "metadata": {},
   "outputs": [],
   "source": [
    "a= open (\"t1.txt\") \n",
    "b= open (\"t2.txt\",'a') \n",
    "for lines in a:\n",
    "    b.write(lines)\n",
    "a.close()\n",
    "b.close()"
   ]
  }
 ],
 "metadata": {
  "kernelspec": {
   "display_name": "Python 3",
   "language": "python",
   "name": "python3"
  },
  "language_info": {
   "codemirror_mode": {
    "name": "ipython",
    "version": 3
   },
   "file_extension": ".py",
   "mimetype": "text/x-python",
   "name": "python",
   "nbconvert_exporter": "python",
   "pygments_lexer": "ipython3",
   "version": "3.7.6"
  }
 },
 "nbformat": 4,
 "nbformat_minor": 4
}
